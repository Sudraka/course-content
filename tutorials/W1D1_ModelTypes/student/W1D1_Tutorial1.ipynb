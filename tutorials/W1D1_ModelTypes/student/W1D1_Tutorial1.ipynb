{
  "nbformat": 4,
  "nbformat_minor": 0,
  "metadata": {
    "colab": {
      "name": "W1D1_Tutorial1",
      "provenance": [],
      "collapsed_sections": [],
      "toc_visible": true,
      "include_colab_link": true
    },
    "kernel": {
      "display_name": "Python 3",
      "language": "python",
      "name": "python3"
    },
    "kernelspec": {
      "display_name": "Python 3",
      "name": "python3"
    },
    "language_info": {
      "codemirror_mode": {
        "name": "ipython",
        "version": 3
      },
      "file_extension": ".py",
      "mimetype": "text/x-python",
      "name": "python",
      "nbconvert_exporter": "python",
      "pygments_lexer": "ipython3",
      "version": "3.7.10"
    },
    "widgets": {
      "application/vnd.jupyter.widget-state+json": {
        "f6f66394211a4ae39edcb49d86d4a9ba": {
          "model_module": "@jupyter-widgets/controls",
          "model_name": "VBoxModel",
          "state": {
            "_view_name": "VBoxView",
            "_dom_classes": [
              "widget-interact"
            ],
            "_model_name": "VBoxModel",
            "_view_module": "@jupyter-widgets/controls",
            "_model_module_version": "1.5.0",
            "_view_count": null,
            "_view_module_version": "1.5.0",
            "box_style": "",
            "layout": "IPY_MODEL_8c4083f3e99c443ea241c59368abca39",
            "_model_module": "@jupyter-widgets/controls",
            "children": [
              "IPY_MODEL_21885b8854914438a390f8793c7d6ecf",
              "IPY_MODEL_a0093bd5765940bebd551fa4a7b46f13",
              "IPY_MODEL_71b2c78715be42c3a863e738134901be",
              "IPY_MODEL_8ec639658f444137a19c50a07f93109a",
              "IPY_MODEL_f97ab42366ae48498bdda55ad335541a",
              "IPY_MODEL_d3b00d730c544f60af1e653925f3ff43",
              "IPY_MODEL_fad8b1c259d4481eb34f1ff91ac69fc8",
              "IPY_MODEL_f510ed2f118643e2a9600b69e53d958a"
            ]
          }
        },
        "8c4083f3e99c443ea241c59368abca39": {
          "model_module": "@jupyter-widgets/base",
          "model_name": "LayoutModel",
          "state": {
            "_view_name": "LayoutView",
            "grid_template_rows": null,
            "right": null,
            "justify_content": null,
            "_view_module": "@jupyter-widgets/base",
            "overflow": null,
            "_model_module_version": "1.2.0",
            "_view_count": null,
            "flex_flow": null,
            "width": null,
            "min_width": null,
            "border": null,
            "align_items": null,
            "bottom": null,
            "_model_module": "@jupyter-widgets/base",
            "top": null,
            "grid_column": null,
            "overflow_y": null,
            "overflow_x": null,
            "grid_auto_flow": null,
            "grid_area": null,
            "grid_template_columns": null,
            "flex": null,
            "_model_name": "LayoutModel",
            "justify_items": null,
            "grid_row": null,
            "max_height": null,
            "align_content": null,
            "visibility": null,
            "align_self": null,
            "height": null,
            "min_height": null,
            "padding": null,
            "grid_auto_rows": null,
            "grid_gap": null,
            "max_width": null,
            "order": null,
            "_view_module_version": "1.2.0",
            "grid_template_areas": null,
            "object_position": null,
            "object_fit": null,
            "grid_auto_columns": null,
            "margin": null,
            "display": null,
            "left": null
          }
        },
        "21885b8854914438a390f8793c7d6ecf": {
          "model_module": "@jupyter-widgets/controls",
          "model_name": "FloatSliderModel",
          "state": {
            "_view_name": "FloatSliderView",
            "style": "IPY_MODEL_7fc2116bf1334eb686d3c90a26d73a52",
            "_dom_classes": [],
            "description": "exp_scale",
            "step": 250,
            "_model_name": "FloatSliderModel",
            "orientation": "horizontal",
            "max": 20000,
            "_view_module": "@jupyter-widgets/controls",
            "_model_module_version": "1.5.0",
            "value": 4500,
            "_view_count": null,
            "disabled": false,
            "_view_module_version": "1.5.0",
            "min": 0,
            "continuous_update": true,
            "readout_format": ".2f",
            "description_tooltip": null,
            "readout": true,
            "_model_module": "@jupyter-widgets/controls",
            "layout": "IPY_MODEL_508073067e724446b1e5a3f17df9afad"
          }
        },
        "a0093bd5765940bebd551fa4a7b46f13": {
          "model_module": "@jupyter-widgets/controls",
          "model_name": "FloatSliderModel",
          "state": {
            "_view_name": "FloatSliderView",
            "style": "IPY_MODEL_d0926d16be2146fba40179eae64c5bd6",
            "_dom_classes": [],
            "description": "exp_rate",
            "step": 1,
            "_model_name": "FloatSliderModel",
            "orientation": "horizontal",
            "max": 50,
            "_view_module": "@jupyter-widgets/controls",
            "_model_module_version": "1.5.0",
            "value": -81,
            "_view_count": null,
            "disabled": false,
            "_view_module_version": "1.5.0",
            "min": -200,
            "continuous_update": true,
            "readout_format": ".2f",
            "description_tooltip": null,
            "readout": true,
            "_model_module": "@jupyter-widgets/controls",
            "layout": "IPY_MODEL_824f5ba0706741df8e38e5e8ba24893f"
          }
        },
        "71b2c78715be42c3a863e738134901be": {
          "model_module": "@jupyter-widgets/controls",
          "model_name": "FloatSliderModel",
          "state": {
            "_view_name": "FloatSliderView",
            "style": "IPY_MODEL_ccfa74c9d8434e8bb991064fbbb275fd",
            "_dom_classes": [],
            "description": "exp_x0",
            "step": 0.005,
            "_model_name": "FloatSliderModel",
            "orientation": "horizontal",
            "max": 0.5,
            "_view_module": "@jupyter-widgets/controls",
            "_model_module_version": "1.5.0",
            "value": 0.03,
            "_view_count": null,
            "disabled": false,
            "_view_module_version": "1.5.0",
            "min": -0.5,
            "continuous_update": true,
            "readout_format": ".2f",
            "description_tooltip": null,
            "readout": true,
            "_model_module": "@jupyter-widgets/controls",
            "layout": "IPY_MODEL_e344f770934746b8b2a79cdbe1ff0c39"
          }
        },
        "8ec639658f444137a19c50a07f93109a": {
          "model_module": "@jupyter-widgets/controls",
          "model_name": "FloatSliderModel",
          "state": {
            "_view_name": "FloatSliderView",
            "style": "IPY_MODEL_d046ca5a2ee2482b85c4adfe7b04090c",
            "_dom_classes": [],
            "description": "inv_scale",
            "step": 10,
            "_model_name": "FloatSliderModel",
            "orientation": "horizontal",
            "max": 300,
            "_view_module": "@jupyter-widgets/controls",
            "_model_module_version": "1.5.0",
            "value": 300,
            "_view_count": null,
            "disabled": false,
            "_view_module_version": "1.5.0",
            "min": 0,
            "continuous_update": true,
            "readout_format": ".2f",
            "description_tooltip": null,
            "readout": true,
            "_model_module": "@jupyter-widgets/controls",
            "layout": "IPY_MODEL_b78ade4e753c43d79098ac126317184b"
          }
        },
        "f97ab42366ae48498bdda55ad335541a": {
          "model_module": "@jupyter-widgets/controls",
          "model_name": "FloatSliderModel",
          "state": {
            "_view_name": "FloatSliderView",
            "style": "IPY_MODEL_48e0a1d1480e4f6095bddddc7261fcfb",
            "_dom_classes": [],
            "description": "inv_x0",
            "step": 0.01,
            "_model_name": "FloatSliderModel",
            "orientation": "horizontal",
            "max": 0.2,
            "_view_module": "@jupyter-widgets/controls",
            "_model_module_version": "1.5.0",
            "value": 0,
            "_view_count": null,
            "disabled": false,
            "_view_module_version": "1.5.0",
            "min": -0.2,
            "continuous_update": true,
            "readout_format": ".2f",
            "description_tooltip": null,
            "readout": true,
            "_model_module": "@jupyter-widgets/controls",
            "layout": "IPY_MODEL_3ae9ad9c9dd04e8eb989906b5f0770c9"
          }
        },
        "d3b00d730c544f60af1e653925f3ff43": {
          "model_module": "@jupyter-widgets/controls",
          "model_name": "FloatSliderModel",
          "state": {
            "_view_name": "FloatSliderView",
            "style": "IPY_MODEL_8dec58396772420db320371f4e29c557",
            "_dom_classes": [],
            "description": "lin_slope",
            "step": 10000,
            "_model_name": "FloatSliderModel",
            "orientation": "horizontal",
            "max": 100000,
            "_view_module": "@jupyter-widgets/controls",
            "_model_module_version": "1.5.0",
            "value": -100000,
            "_view_count": null,
            "disabled": false,
            "_view_module_version": "1.5.0",
            "min": -600000,
            "continuous_update": true,
            "readout_format": ".2f",
            "description_tooltip": null,
            "readout": true,
            "_model_module": "@jupyter-widgets/controls",
            "layout": "IPY_MODEL_10af3269a42749b4a4b60da1fdc41454"
          }
        },
        "fad8b1c259d4481eb34f1ff91ac69fc8": {
          "model_module": "@jupyter-widgets/controls",
          "model_name": "FloatSliderModel",
          "state": {
            "_view_name": "FloatSliderView",
            "style": "IPY_MODEL_f293f11095094699922526557d27c561",
            "_dom_classes": [],
            "description": "lin_y0",
            "step": 1000,
            "_model_name": "FloatSliderModel",
            "orientation": "horizontal",
            "max": 40000,
            "_view_module": "@jupyter-widgets/controls",
            "_model_module_version": "1.5.0",
            "value": 10000,
            "_view_count": null,
            "disabled": false,
            "_view_module_version": "1.5.0",
            "min": 0,
            "continuous_update": true,
            "readout_format": ".2f",
            "description_tooltip": null,
            "readout": true,
            "_model_module": "@jupyter-widgets/controls",
            "layout": "IPY_MODEL_6bf997d9a5b84ae08c2f01c997bd72a1"
          }
        },
        "f510ed2f118643e2a9600b69e53d958a": {
          "model_module": "@jupyter-widgets/output",
          "model_name": "OutputModel",
          "state": {
            "_view_name": "OutputView",
            "msg_id": "",
            "_dom_classes": [],
            "_model_name": "OutputModel",
            "outputs": [
              {
                "output_type": "display_data",
                "metadata": {
                  "tags": [],
                  "image/png": {
                    "width": 558,
                    "height": 413
                  },
                  "needs_background": "light"
                },
                "image/png": "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\n",
                "text/plain": "<Figure size 576x432 with 1 Axes>"
              }
            ],
            "_view_module": "@jupyter-widgets/output",
            "_model_module_version": "1.0.0",
            "_view_count": null,
            "_view_module_version": "1.0.0",
            "layout": "IPY_MODEL_4b4dec58354248a4a1db22da6283a520",
            "_model_module": "@jupyter-widgets/output"
          }
        },
        "7fc2116bf1334eb686d3c90a26d73a52": {
          "model_module": "@jupyter-widgets/controls",
          "model_name": "SliderStyleModel",
          "state": {
            "_view_name": "StyleView",
            "handle_color": null,
            "_model_name": "SliderStyleModel",
            "description_width": "",
            "_view_module": "@jupyter-widgets/base",
            "_model_module_version": "1.5.0",
            "_view_count": null,
            "_view_module_version": "1.2.0",
            "_model_module": "@jupyter-widgets/controls"
          }
        },
        "508073067e724446b1e5a3f17df9afad": {
          "model_module": "@jupyter-widgets/base",
          "model_name": "LayoutModel",
          "state": {
            "_view_name": "LayoutView",
            "grid_template_rows": null,
            "right": null,
            "justify_content": null,
            "_view_module": "@jupyter-widgets/base",
            "overflow": null,
            "_model_module_version": "1.2.0",
            "_view_count": null,
            "flex_flow": null,
            "width": null,
            "min_width": null,
            "border": null,
            "align_items": null,
            "bottom": null,
            "_model_module": "@jupyter-widgets/base",
            "top": null,
            "grid_column": null,
            "overflow_y": null,
            "overflow_x": null,
            "grid_auto_flow": null,
            "grid_area": null,
            "grid_template_columns": null,
            "flex": null,
            "_model_name": "LayoutModel",
            "justify_items": null,
            "grid_row": null,
            "max_height": null,
            "align_content": null,
            "visibility": null,
            "align_self": null,
            "height": null,
            "min_height": null,
            "padding": null,
            "grid_auto_rows": null,
            "grid_gap": null,
            "max_width": null,
            "order": null,
            "_view_module_version": "1.2.0",
            "grid_template_areas": null,
            "object_position": null,
            "object_fit": null,
            "grid_auto_columns": null,
            "margin": null,
            "display": null,
            "left": null
          }
        },
        "d0926d16be2146fba40179eae64c5bd6": {
          "model_module": "@jupyter-widgets/controls",
          "model_name": "SliderStyleModel",
          "state": {
            "_view_name": "StyleView",
            "handle_color": null,
            "_model_name": "SliderStyleModel",
            "description_width": "",
            "_view_module": "@jupyter-widgets/base",
            "_model_module_version": "1.5.0",
            "_view_count": null,
            "_view_module_version": "1.2.0",
            "_model_module": "@jupyter-widgets/controls"
          }
        },
        "824f5ba0706741df8e38e5e8ba24893f": {
          "model_module": "@jupyter-widgets/base",
          "model_name": "LayoutModel",
          "state": {
            "_view_name": "LayoutView",
            "grid_template_rows": null,
            "right": null,
            "justify_content": null,
            "_view_module": "@jupyter-widgets/base",
            "overflow": null,
            "_model_module_version": "1.2.0",
            "_view_count": null,
            "flex_flow": null,
            "width": null,
            "min_width": null,
            "border": null,
            "align_items": null,
            "bottom": null,
            "_model_module": "@jupyter-widgets/base",
            "top": null,
            "grid_column": null,
            "overflow_y": null,
            "overflow_x": null,
            "grid_auto_flow": null,
            "grid_area": null,
            "grid_template_columns": null,
            "flex": null,
            "_model_name": "LayoutModel",
            "justify_items": null,
            "grid_row": null,
            "max_height": null,
            "align_content": null,
            "visibility": null,
            "align_self": null,
            "height": null,
            "min_height": null,
            "padding": null,
            "grid_auto_rows": null,
            "grid_gap": null,
            "max_width": null,
            "order": null,
            "_view_module_version": "1.2.0",
            "grid_template_areas": null,
            "object_position": null,
            "object_fit": null,
            "grid_auto_columns": null,
            "margin": null,
            "display": null,
            "left": null
          }
        },
        "ccfa74c9d8434e8bb991064fbbb275fd": {
          "model_module": "@jupyter-widgets/controls",
          "model_name": "SliderStyleModel",
          "state": {
            "_view_name": "StyleView",
            "handle_color": null,
            "_model_name": "SliderStyleModel",
            "description_width": "",
            "_view_module": "@jupyter-widgets/base",
            "_model_module_version": "1.5.0",
            "_view_count": null,
            "_view_module_version": "1.2.0",
            "_model_module": "@jupyter-widgets/controls"
          }
        },
        "e344f770934746b8b2a79cdbe1ff0c39": {
          "model_module": "@jupyter-widgets/base",
          "model_name": "LayoutModel",
          "state": {
            "_view_name": "LayoutView",
            "grid_template_rows": null,
            "right": null,
            "justify_content": null,
            "_view_module": "@jupyter-widgets/base",
            "overflow": null,
            "_model_module_version": "1.2.0",
            "_view_count": null,
            "flex_flow": null,
            "width": null,
            "min_width": null,
            "border": null,
            "align_items": null,
            "bottom": null,
            "_model_module": "@jupyter-widgets/base",
            "top": null,
            "grid_column": null,
            "overflow_y": null,
            "overflow_x": null,
            "grid_auto_flow": null,
            "grid_area": null,
            "grid_template_columns": null,
            "flex": null,
            "_model_name": "LayoutModel",
            "justify_items": null,
            "grid_row": null,
            "max_height": null,
            "align_content": null,
            "visibility": null,
            "align_self": null,
            "height": null,
            "min_height": null,
            "padding": null,
            "grid_auto_rows": null,
            "grid_gap": null,
            "max_width": null,
            "order": null,
            "_view_module_version": "1.2.0",
            "grid_template_areas": null,
            "object_position": null,
            "object_fit": null,
            "grid_auto_columns": null,
            "margin": null,
            "display": null,
            "left": null
          }
        },
        "d046ca5a2ee2482b85c4adfe7b04090c": {
          "model_module": "@jupyter-widgets/controls",
          "model_name": "SliderStyleModel",
          "state": {
            "_view_name": "StyleView",
            "handle_color": null,
            "_model_name": "SliderStyleModel",
            "description_width": "",
            "_view_module": "@jupyter-widgets/base",
            "_model_module_version": "1.5.0",
            "_view_count": null,
            "_view_module_version": "1.2.0",
            "_model_module": "@jupyter-widgets/controls"
          }
        },
        "b78ade4e753c43d79098ac126317184b": {
          "model_module": "@jupyter-widgets/base",
          "model_name": "LayoutModel",
          "state": {
            "_view_name": "LayoutView",
            "grid_template_rows": null,
            "right": null,
            "justify_content": null,
            "_view_module": "@jupyter-widgets/base",
            "overflow": null,
            "_model_module_version": "1.2.0",
            "_view_count": null,
            "flex_flow": null,
            "width": null,
            "min_width": null,
            "border": null,
            "align_items": null,
            "bottom": null,
            "_model_module": "@jupyter-widgets/base",
            "top": null,
            "grid_column": null,
            "overflow_y": null,
            "overflow_x": null,
            "grid_auto_flow": null,
            "grid_area": null,
            "grid_template_columns": null,
            "flex": null,
            "_model_name": "LayoutModel",
            "justify_items": null,
            "grid_row": null,
            "max_height": null,
            "align_content": null,
            "visibility": null,
            "align_self": null,
            "height": null,
            "min_height": null,
            "padding": null,
            "grid_auto_rows": null,
            "grid_gap": null,
            "max_width": null,
            "order": null,
            "_view_module_version": "1.2.0",
            "grid_template_areas": null,
            "object_position": null,
            "object_fit": null,
            "grid_auto_columns": null,
            "margin": null,
            "display": null,
            "left": null
          }
        },
        "48e0a1d1480e4f6095bddddc7261fcfb": {
          "model_module": "@jupyter-widgets/controls",
          "model_name": "SliderStyleModel",
          "state": {
            "_view_name": "StyleView",
            "handle_color": null,
            "_model_name": "SliderStyleModel",
            "description_width": "",
            "_view_module": "@jupyter-widgets/base",
            "_model_module_version": "1.5.0",
            "_view_count": null,
            "_view_module_version": "1.2.0",
            "_model_module": "@jupyter-widgets/controls"
          }
        },
        "3ae9ad9c9dd04e8eb989906b5f0770c9": {
          "model_module": "@jupyter-widgets/base",
          "model_name": "LayoutModel",
          "state": {
            "_view_name": "LayoutView",
            "grid_template_rows": null,
            "right": null,
            "justify_content": null,
            "_view_module": "@jupyter-widgets/base",
            "overflow": null,
            "_model_module_version": "1.2.0",
            "_view_count": null,
            "flex_flow": null,
            "width": null,
            "min_width": null,
            "border": null,
            "align_items": null,
            "bottom": null,
            "_model_module": "@jupyter-widgets/base",
            "top": null,
            "grid_column": null,
            "overflow_y": null,
            "overflow_x": null,
            "grid_auto_flow": null,
            "grid_area": null,
            "grid_template_columns": null,
            "flex": null,
            "_model_name": "LayoutModel",
            "justify_items": null,
            "grid_row": null,
            "max_height": null,
            "align_content": null,
            "visibility": null,
            "align_self": null,
            "height": null,
            "min_height": null,
            "padding": null,
            "grid_auto_rows": null,
            "grid_gap": null,
            "max_width": null,
            "order": null,
            "_view_module_version": "1.2.0",
            "grid_template_areas": null,
            "object_position": null,
            "object_fit": null,
            "grid_auto_columns": null,
            "margin": null,
            "display": null,
            "left": null
          }
        },
        "8dec58396772420db320371f4e29c557": {
          "model_module": "@jupyter-widgets/controls",
          "model_name": "SliderStyleModel",
          "state": {
            "_view_name": "StyleView",
            "handle_color": null,
            "_model_name": "SliderStyleModel",
            "description_width": "",
            "_view_module": "@jupyter-widgets/base",
            "_model_module_version": "1.5.0",
            "_view_count": null,
            "_view_module_version": "1.2.0",
            "_model_module": "@jupyter-widgets/controls"
          }
        },
        "10af3269a42749b4a4b60da1fdc41454": {
          "model_module": "@jupyter-widgets/base",
          "model_name": "LayoutModel",
          "state": {
            "_view_name": "LayoutView",
            "grid_template_rows": null,
            "right": null,
            "justify_content": null,
            "_view_module": "@jupyter-widgets/base",
            "overflow": null,
            "_model_module_version": "1.2.0",
            "_view_count": null,
            "flex_flow": null,
            "width": null,
            "min_width": null,
            "border": null,
            "align_items": null,
            "bottom": null,
            "_model_module": "@jupyter-widgets/base",
            "top": null,
            "grid_column": null,
            "overflow_y": null,
            "overflow_x": null,
            "grid_auto_flow": null,
            "grid_area": null,
            "grid_template_columns": null,
            "flex": null,
            "_model_name": "LayoutModel",
            "justify_items": null,
            "grid_row": null,
            "max_height": null,
            "align_content": null,
            "visibility": null,
            "align_self": null,
            "height": null,
            "min_height": null,
            "padding": null,
            "grid_auto_rows": null,
            "grid_gap": null,
            "max_width": null,
            "order": null,
            "_view_module_version": "1.2.0",
            "grid_template_areas": null,
            "object_position": null,
            "object_fit": null,
            "grid_auto_columns": null,
            "margin": null,
            "display": null,
            "left": null
          }
        },
        "f293f11095094699922526557d27c561": {
          "model_module": "@jupyter-widgets/controls",
          "model_name": "SliderStyleModel",
          "state": {
            "_view_name": "StyleView",
            "handle_color": null,
            "_model_name": "SliderStyleModel",
            "description_width": "",
            "_view_module": "@jupyter-widgets/base",
            "_model_module_version": "1.5.0",
            "_view_count": null,
            "_view_module_version": "1.2.0",
            "_model_module": "@jupyter-widgets/controls"
          }
        },
        "6bf997d9a5b84ae08c2f01c997bd72a1": {
          "model_module": "@jupyter-widgets/base",
          "model_name": "LayoutModel",
          "state": {
            "_view_name": "LayoutView",
            "grid_template_rows": null,
            "right": null,
            "justify_content": null,
            "_view_module": "@jupyter-widgets/base",
            "overflow": null,
            "_model_module_version": "1.2.0",
            "_view_count": null,
            "flex_flow": null,
            "width": null,
            "min_width": null,
            "border": null,
            "align_items": null,
            "bottom": null,
            "_model_module": "@jupyter-widgets/base",
            "top": null,
            "grid_column": null,
            "overflow_y": null,
            "overflow_x": null,
            "grid_auto_flow": null,
            "grid_area": null,
            "grid_template_columns": null,
            "flex": null,
            "_model_name": "LayoutModel",
            "justify_items": null,
            "grid_row": null,
            "max_height": null,
            "align_content": null,
            "visibility": null,
            "align_self": null,
            "height": null,
            "min_height": null,
            "padding": null,
            "grid_auto_rows": null,
            "grid_gap": null,
            "max_width": null,
            "order": null,
            "_view_module_version": "1.2.0",
            "grid_template_areas": null,
            "object_position": null,
            "object_fit": null,
            "grid_auto_columns": null,
            "margin": null,
            "display": null,
            "left": null
          }
        },
        "4b4dec58354248a4a1db22da6283a520": {
          "model_module": "@jupyter-widgets/base",
          "model_name": "LayoutModel",
          "state": {
            "_view_name": "LayoutView",
            "grid_template_rows": null,
            "right": null,
            "justify_content": null,
            "_view_module": "@jupyter-widgets/base",
            "overflow": null,
            "_model_module_version": "1.2.0",
            "_view_count": null,
            "flex_flow": null,
            "width": null,
            "min_width": null,
            "border": null,
            "align_items": null,
            "bottom": null,
            "_model_module": "@jupyter-widgets/base",
            "top": null,
            "grid_column": null,
            "overflow_y": null,
            "overflow_x": null,
            "grid_auto_flow": null,
            "grid_area": null,
            "grid_template_columns": null,
            "flex": null,
            "_model_name": "LayoutModel",
            "justify_items": null,
            "grid_row": null,
            "max_height": null,
            "align_content": null,
            "visibility": null,
            "align_self": null,
            "height": null,
            "min_height": null,
            "padding": null,
            "grid_auto_rows": null,
            "grid_gap": null,
            "max_width": null,
            "order": null,
            "_view_module_version": "1.2.0",
            "grid_template_areas": null,
            "object_position": null,
            "object_fit": null,
            "grid_auto_columns": null,
            "margin": null,
            "display": null,
            "left": null
          }
        }
      }
    }
  },
  "cells": [
    {
      "cell_type": "markdown",
      "metadata": {
        "id": "view-in-github",
        "colab_type": "text"
      },
      "source": [
        "<a href=\"https://colab.research.google.com/github/sudraka/course-content/blob/master/tutorials/W1D1_ModelTypes/student/W1D1_Tutorial1.ipynb\" target=\"_parent\"><img src=\"https://colab.research.google.com/assets/colab-badge.svg\" alt=\"Open In Colab\"/></a>"
      ]
    },
    {
      "cell_type": "markdown",
      "metadata": {
        "id": "h57CplDKkGdy"
      },
      "source": [
        "# Tutorial 1: \"What\" models\n",
        "**Week 1, Day 1: Model Types**\n",
        "\n",
        "**By Neuromatch Academy**\n",
        "\n",
        "__Content creators:__ Matt Laporte, Byron Galbraith, Konrad Kording\n",
        "\n",
        "__Content reviewers:__ Dalin Guo, Aishwarya Balwani, Madineh Sarvestani, Maryam Vaziri-Pashkam, Michael Waskom, Ella Batty\n",
        "\n",
        "We would like to acknowledge [Steinmetz _et al._ (2019)](https://www.nature.com/articles/s41586-019-1787-x) for sharing their data, a subset of which is used here.\n"
      ]
    },
    {
      "cell_type": "markdown",
      "metadata": {
        "id": "W8-bG0e2kGd0"
      },
      "source": [
        "**Our 2021 Sponsors, including Presenting Sponsor Facebook Reality Labs**\n",
        "\n",
        "<p align='center'><img src='https://github.com/NeuromatchAcademy/widgets/blob/master/sponsors.png?raw=True'/></p>"
      ]
    },
    {
      "cell_type": "markdown",
      "metadata": {
        "id": "u67KiGtHkGd1"
      },
      "source": [
        "___\n",
        "# Tutorial Objectives\n",
        "\n",
        "*Estimated timing of tutorial: 50 minutes*\n",
        "\n",
        "This is tutorial 1 of a 3-part series on different flavors of models used to understand neural data. In this tutorial we will explore 'What' models, used to describe the data. To understand what our data looks like, we will visualize it in different ways. Then we will compare it to simple mathematical models. Specifically, we will:\n",
        "\n",
        "- Load a dataset with spiking activity from hundreds of neurons and understand how it is organized\n",
        "- Make plots to visualize characteristics of the spiking activity across the population\n",
        "- Compute the distribution of \"inter-spike intervals\" (ISIs) for a single neuron\n",
        "- Consider several formal models of this distribution's shape and fit them to the data \"by hand\""
      ]
    },
    {
      "cell_type": "code",
      "metadata": {
        "cellView": "form",
        "execution": {
          "iopub.execute_input": "2021-07-03T17:54:16.068512Z",
          "iopub.status.busy": "2021-07-03T17:54:16.067851Z",
          "iopub.status.idle": "2021-07-03T17:54:16.078805Z",
          "shell.execute_reply": "2021-07-03T17:54:16.079308Z"
        },
        "id": "w7mYEArekGd3",
        "outputId": "39659810-d375-41ad-cc62-19b80f9c81d9",
        "colab": {
          "base_uri": "https://localhost:8080/",
          "height": 500
        }
      },
      "source": [
        "# @title Tutorial slides\n",
        "\n",
        "# @markdown These are the slides for the videos in all tutorials today\n",
        "from IPython.display import IFrame\n",
        "IFrame(src=f\"https://mfr.ca-1.osf.io/render?url=https://osf.io/6dxwe/?direct%26mode=render%26action=download%26mode=render\", width=854, height=480)"
      ],
      "execution_count": 1,
      "outputs": [
        {
          "output_type": "execute_result",
          "data": {
            "text/html": [
              "\n",
              "        <iframe\n",
              "            width=\"854\"\n",
              "            height=\"480\"\n",
              "            src=\"https://mfr.ca-1.osf.io/render?url=https://osf.io/6dxwe/?direct%26mode=render%26action=download%26mode=render\"\n",
              "            frameborder=\"0\"\n",
              "            allowfullscreen\n",
              "        ></iframe>\n",
              "        "
            ],
            "text/plain": [
              "<IPython.lib.display.IFrame at 0x7f1e14175290>"
            ]
          },
          "metadata": {
            "tags": []
          },
          "execution_count": 1
        }
      ]
    },
    {
      "cell_type": "code",
      "metadata": {
        "cellView": "form",
        "execution": {
          "iopub.execute_input": "2021-07-03T17:54:16.087459Z",
          "iopub.status.busy": "2021-07-03T17:54:16.086818Z",
          "iopub.status.idle": "2021-07-03T17:54:16.200795Z",
          "shell.execute_reply": "2021-07-03T17:54:16.198330Z"
        },
        "id": "cnISBmEAkGd4"
      },
      "source": [
        "# @title Video 1: \"What\" Models\n",
        "from ipywidgets import widgets\n",
        "\n",
        "out2 = widgets.Output()\n",
        "with out2:\n",
        "  from IPython.display import IFrame\n",
        "  class BiliVideo(IFrame):\n",
        "      def __init__(self, id, page=1, width=400, height=300, **kwargs):\n",
        "          self.id=id\n",
        "          src = 'https://player.bilibili.com/player.html?bvid={0}&page={1}'.format(id, page)\n",
        "          super(BiliVideo, self).__init__(src, width, height, **kwargs)\n",
        "\n",
        "  video = BiliVideo(id=\"BV1mz4y1X7ot\", width=854, height=480, fs=1)\n",
        "  print('Video available at https://www.bilibili.com/video/{0}'.format(video.id))\n",
        "  display(video)\n",
        "\n",
        "out1 = widgets.Output()\n",
        "with out1:\n",
        "  from IPython.display import YouTubeVideo\n",
        "  video = YouTubeVideo(id=\"KgqR_jbjMQg\", width=854, height=480, fs=1, rel=0)\n",
        "  print('Video available at https://youtube.com/watch?v=' + video.id)\n",
        "  display(video)\n",
        "\n",
        "out = widgets.Tab([out1, out2])\n",
        "out.set_title(0, 'Youtube')\n",
        "out.set_title(1, 'Bilibili')\n",
        "\n",
        "display(out)"
      ],
      "execution_count": null,
      "outputs": []
    },
    {
      "cell_type": "markdown",
      "metadata": {
        "id": "eC7UAOXlkGd6"
      },
      "source": [
        "# Setup\n",
        "\n"
      ]
    },
    {
      "cell_type": "markdown",
      "metadata": {
        "id": "0eKnALrhkGd7"
      },
      "source": [
        "Python requires you to explictly \"import\" libraries before their functions are available to use. We will always specify our imports at the beginning of each notebook or script."
      ]
    },
    {
      "cell_type": "code",
      "metadata": {
        "execution": {
          "iopub.execute_input": "2021-07-03T17:54:16.207642Z",
          "iopub.status.busy": "2021-07-03T17:54:16.207031Z",
          "iopub.status.idle": "2021-07-03T17:54:18.019171Z",
          "shell.execute_reply": "2021-07-03T17:54:18.018238Z"
        },
        "pycharm": {
          "name": "#%%\n"
        },
        "id": "bP4bB1L_kGd8"
      },
      "source": [
        "import numpy as np\n",
        "import matplotlib.pyplot as plt"
      ],
      "execution_count": 2,
      "outputs": []
    },
    {
      "cell_type": "markdown",
      "metadata": {
        "id": "Yebh6Qu0kGd9"
      },
      "source": [
        "Tutorial notebooks typically begin with several set-up steps that are hidden from view by default.\n",
        "\n",
        "**Important:** Even though the code is hidden, you still need to run it so that the rest of the notebook can work properly. Step through each cell, either by pressing the play button in the upper-left-hand corner or with a keyboard shortcut (`Cmd-Return` on a Mac, `Ctrl-Enter` otherwise). A number will appear inside the brackets (e.g. `[3]`) to tell you that the cell was executed and what order that happened in.\n",
        "\n",
        "If you are curious to see what is going on inside each cell, you can double click to expand. Once expanded, double-click the white space to the right of the editor to collapse again."
      ]
    },
    {
      "cell_type": "code",
      "metadata": {
        "execution": {
          "iopub.execute_input": "2021-07-03T17:54:18.035304Z",
          "iopub.status.busy": "2021-07-03T17:54:18.031341Z",
          "iopub.status.idle": "2021-07-03T17:54:18.199819Z",
          "shell.execute_reply": "2021-07-03T17:54:18.200358Z"
        },
        "pycharm": {
          "name": "#%%\n"
        },
        "id": "bQT9lW2IkGd_"
      },
      "source": [
        "# @title Figure Settings\n",
        "import ipywidgets as widgets #interactive display\n",
        "\n",
        "%matplotlib inline\n",
        "%config InlineBackend.figure_format = 'retina'\n",
        "plt.style.use(\"https://raw.githubusercontent.com/NeuromatchAcademy/course-content/master/nma.mplstyle\")"
      ],
      "execution_count": 6,
      "outputs": []
    },
    {
      "cell_type": "code",
      "metadata": {
        "cellView": "form",
        "execution": {
          "iopub.execute_input": "2021-07-03T17:54:18.206360Z",
          "iopub.status.busy": "2021-07-03T17:54:18.202786Z",
          "iopub.status.idle": "2021-07-03T17:54:18.209079Z",
          "shell.execute_reply": "2021-07-03T17:54:18.209943Z"
        },
        "id": "zNFDB-YWkGeA"
      },
      "source": [
        "# @title Plotting functions\n",
        "\n",
        "def plot_isis(single_neuron_isis):\n",
        "  plt.hist(single_neuron_isis, bins=50, histtype=\"stepfilled\")\n",
        "  plt.axvline(single_neuron_isis.mean(), color=\"orange\", label=\"Mean ISI\")\n",
        "  plt.xlabel(\"ISI duration (s)\")\n",
        "  plt.ylabel(\"Number of spikes\")\n",
        "  plt.legend()"
      ],
      "execution_count": 7,
      "outputs": []
    },
    {
      "cell_type": "code",
      "metadata": {
        "execution": {
          "iopub.execute_input": "2021-07-03T17:54:18.216099Z",
          "iopub.status.busy": "2021-07-03T17:54:18.215112Z",
          "iopub.status.idle": "2021-07-03T17:54:20.671000Z",
          "shell.execute_reply": "2021-07-03T17:54:20.671442Z"
        },
        "pycharm": {
          "name": "#%%\n"
        },
        "id": "OjYbLHbYkGeC"
      },
      "source": [
        "#@title Data retrieval\n",
        "#@markdown This cell downloads the example dataset that we will use in this tutorial.\n",
        "import io\n",
        "import requests\n",
        "r = requests.get('https://osf.io/sy5xt/download')\n",
        "if r.status_code != 200:\n",
        "  print('Failed to download data')\n",
        "else:\n",
        "  spike_times = np.load(io.BytesIO(r.content), allow_pickle=True)['spike_times']"
      ],
      "execution_count": 8,
      "outputs": []
    },
    {
      "cell_type": "markdown",
      "metadata": {
        "id": "M9yKM2nokGeC"
      },
      "source": [
        "---\n",
        "\n",
        "# Section 1: Exploring the Steinmetz dataset\n",
        "\n",
        "In this tutorial we will explore the structure of a neuroscience dataset.\n",
        "\n",
        "We consider a subset of data from a study of [Steinmetz _et al._ (2019)](https://www.nature.com/articles/s41586-019-1787-x). In this study, Neuropixels probes were implanted in the brains of mice. Electrical potentials were measured by hundreds of electrodes along the length of each probe. Each electrode's measurements captured local variations in the electric field due to nearby spiking neurons. A spike sorting algorithm was used to infer spike times and cluster spikes according to common origin: a single cluster of sorted spikes is causally attributed to a single neuron.\n",
        "\n",
        "In particular, a single recording session of spike times and neuron assignments was loaded and assigned to `spike_times` in the preceding setup.\n",
        "\n",
        "Typically a dataset comes with some information about its structure. However, this information may be incomplete. You might also apply some transformations or \"pre-processing\" to create a working representation of the data of interest, which might go partly undocumented depending on the circumstances. In any case it is important to be able to use the available tools to investigate unfamiliar aspects of a data structure.\n",
        "\n",
        "Let's see what our data looks like..."
      ]
    },
    {
      "cell_type": "markdown",
      "metadata": {
        "id": "y3fbeGHDkGeE"
      },
      "source": [
        "## Section 1.1: Warming up with `spike_times`"
      ]
    },
    {
      "cell_type": "markdown",
      "metadata": {
        "id": "Rz3vg8sokGeF"
      },
      "source": [
        "What is the Python type of our variable?"
      ]
    },
    {
      "cell_type": "code",
      "metadata": {
        "execution": {
          "iopub.execute_input": "2021-07-03T17:54:20.676871Z",
          "iopub.status.busy": "2021-07-03T17:54:20.676106Z",
          "iopub.status.idle": "2021-07-03T17:54:20.682191Z",
          "shell.execute_reply": "2021-07-03T17:54:20.681644Z"
        },
        "pycharm": {
          "name": "#%%\n"
        },
        "id": "4jFamFGnkGeF",
        "outputId": "bf18d1e8-7f1e-40da-f21f-f61a8b749143",
        "colab": {
          "base_uri": "https://localhost:8080/"
        }
      },
      "source": [
        "type(spike_times)"
      ],
      "execution_count": 9,
      "outputs": [
        {
          "output_type": "execute_result",
          "data": {
            "text/plain": [
              "numpy.ndarray"
            ]
          },
          "metadata": {
            "tags": []
          },
          "execution_count": 9
        }
      ]
    },
    {
      "cell_type": "markdown",
      "metadata": {
        "id": "Pa6AMxxRkGeF"
      },
      "source": [
        "You should see `numpy.ndarray`, which means that it's a normal NumPy array.\n",
        "\n",
        "If you see an error message, it probably means that you did not execute the set-up cells at the top of the notebook. So go ahead and make sure to do that.\n",
        "\n",
        "Once everything is running properly, we can ask the next question about the dataset: what's its shape?"
      ]
    },
    {
      "cell_type": "code",
      "metadata": {
        "execution": {
          "iopub.execute_input": "2021-07-03T17:54:20.686733Z",
          "iopub.status.busy": "2021-07-03T17:54:20.686101Z",
          "iopub.status.idle": "2021-07-03T17:54:20.691916Z",
          "shell.execute_reply": "2021-07-03T17:54:20.692367Z"
        },
        "pycharm": {
          "name": "#%%\n"
        },
        "id": "788QR9QukGeF",
        "outputId": "cc3a24e9-0ed5-467b-82c3-bb3a6d226ea1",
        "colab": {
          "base_uri": "https://localhost:8080/"
        }
      },
      "source": [
        "spike_times.shape"
      ],
      "execution_count": 10,
      "outputs": [
        {
          "output_type": "execute_result",
          "data": {
            "text/plain": [
              "(734,)"
            ]
          },
          "metadata": {
            "tags": []
          },
          "execution_count": 10
        }
      ]
    },
    {
      "cell_type": "markdown",
      "metadata": {
        "id": "qPgJVeU0kGeG"
      },
      "source": [
        "There are 734 entries in one dimension, and no other dimensions. What is the Python type of the first entry, and what is *its* shape?"
      ]
    },
    {
      "cell_type": "code",
      "metadata": {
        "execution": {
          "iopub.execute_input": "2021-07-03T17:54:20.697800Z",
          "iopub.status.busy": "2021-07-03T17:54:20.697199Z",
          "iopub.status.idle": "2021-07-03T17:54:20.701384Z",
          "shell.execute_reply": "2021-07-03T17:54:20.700890Z"
        },
        "pycharm": {
          "name": "#%%\n"
        },
        "id": "lXMGoz0HkGeG",
        "outputId": "b2c24d6d-8f19-4ae8-abd7-5fcad48a073a",
        "colab": {
          "base_uri": "https://localhost:8080/"
        }
      },
      "source": [
        "idx = 0\n",
        "print(\n",
        "  type(spike_times[idx]),\n",
        "  spike_times[idx].shape,\n",
        "  sep=\"\\n\",\n",
        ")"
      ],
      "execution_count": 11,
      "outputs": [
        {
          "output_type": "stream",
          "text": [
            "<class 'numpy.ndarray'>\n",
            "(826,)\n"
          ],
          "name": "stdout"
        }
      ]
    },
    {
      "cell_type": "markdown",
      "metadata": {
        "id": "MEhPETRUkGeG"
      },
      "source": [
        "It's also a NumPy array with a 1D shape! Why didn't this show up as a second dimension in the shape of `spike_times`? That is, why not `spike_times.shape == (734, 826)`?\n",
        "\n",
        "To investigate, let's check another entry."
      ]
    },
    {
      "cell_type": "code",
      "metadata": {
        "execution": {
          "iopub.execute_input": "2021-07-03T17:54:20.710021Z",
          "iopub.status.busy": "2021-07-03T17:54:20.707287Z",
          "iopub.status.idle": "2021-07-03T17:54:20.712941Z",
          "shell.execute_reply": "2021-07-03T17:54:20.712371Z"
        },
        "pycharm": {
          "name": "#%%\n"
        },
        "id": "Mh8xxIxekGeG",
        "outputId": "d3c54a98-fe19-4f6e-be3d-de5343b6cad7",
        "colab": {
          "base_uri": "https://localhost:8080/"
        }
      },
      "source": [
        "idx = 321\n",
        "print(\n",
        "  type(spike_times[idx]),\n",
        "  spike_times[idx].shape,\n",
        "  sep=\"\\n\",\n",
        ")\n",
        "\n",
        "print((spike_times[idx]))"
      ],
      "execution_count": 16,
      "outputs": [
        {
          "output_type": "stream",
          "text": [
            "<class 'numpy.ndarray'>\n",
            "(9723,)\n",
            "[1.0698667e+00 1.1536334e+00 1.2403667e+00 ... 2.6944104e+03 2.6958887e+03\n",
            " 2.6961384e+03]\n"
          ],
          "name": "stdout"
        }
      ]
    },
    {
      "cell_type": "markdown",
      "metadata": {
        "id": "0LjjxvQ4kGeG"
      },
      "source": [
        "It's also a 1D NumPy array, but it has a different shape. Checking the NumPy types of the values in these arrays, and their first few elements, we see they are composed of floating point numbers (not another level of `np.ndarray`):"
      ]
    },
    {
      "cell_type": "code",
      "metadata": {
        "execution": {
          "iopub.execute_input": "2021-07-03T17:54:20.722331Z",
          "iopub.status.busy": "2021-07-03T17:54:20.720941Z",
          "iopub.status.idle": "2021-07-03T17:54:20.724840Z",
          "shell.execute_reply": "2021-07-03T17:54:20.724270Z"
        },
        "pycharm": {
          "name": "#%%\n"
        },
        "colab": {
          "base_uri": "https://localhost:8080/"
        },
        "id": "93mX03FmkGeH",
        "outputId": "446480ae-2fed-4bf3-b5a2-71bbd0ce92c4"
      },
      "source": [
        "i_neurons = [0, 321]\n",
        "i_print = slice(0, 5)\n",
        "\n",
        "for i in i_neurons:\n",
        "  print(\n",
        "    \"Neuron {}:\".format(i),\n",
        "    spike_times[i].dtype,\n",
        "    spike_times[i][i_print],\n",
        "    \"\\n\",\n",
        "    sep=\"\\n\"\n",
        "  )"
      ],
      "execution_count": 18,
      "outputs": [
        {
          "output_type": "stream",
          "text": [
            "Neuron 0:\n",
            "float32\n",
            "[ 0.8149   14.822467 24.9646   25.1436   38.8709  ]\n",
            "\n",
            "\n",
            "Neuron 321:\n",
            "float32\n",
            "[1.0698667 1.1536334 1.2403667 1.7072    1.799    ]\n",
            "\n",
            "\n"
          ],
          "name": "stdout"
        }
      ]
    },
    {
      "cell_type": "markdown",
      "metadata": {
        "id": "mtomK40PkGeH"
      },
      "source": [
        "Note that this time we've checked the NumPy `dtype` rather than the Python variable type. These two arrays contain floating point numbers (\"floats\") with 32 bits of precision.\n",
        "\n",
        "The basic picture is coming together:\n",
        "- `spike_times` is 1D, its entries are NumPy arrays, and its length is the number of neurons (734): by indexing it, we select a subset of neurons.\n",
        "- An array in `spike_times` is also 1D and corresponds to a single neuron; its entries are floating point numbers, and its length is the number of spikes attributed to that neuron. By indexing it, we select a subset of spike times for that neuron.\n",
        "\n",
        "Visually, you can think of the data structure as looking something like this:\n",
        "\n",
        "```\n",
        "| . . . . . |\n",
        "| . . . . . . . . |\n",
        "| . . . |\n",
        "| . . . . . . . |\n",
        "```\n",
        "\n",
        "Before moving on, we'll calculate and store the number of neurons in the dataset and the number of spikes per neuron:"
      ]
    },
    {
      "cell_type": "code",
      "metadata": {
        "execution": {
          "iopub.execute_input": "2021-07-03T17:54:20.731464Z",
          "iopub.status.busy": "2021-07-03T17:54:20.730149Z",
          "iopub.status.idle": "2021-07-03T17:54:20.733629Z",
          "shell.execute_reply": "2021-07-03T17:54:20.733072Z"
        },
        "pycharm": {
          "name": "#%%\n"
        },
        "id": "jGkO5u-8kGeI",
        "outputId": "8bd8e464-b221-4a5b-d699-32ac48b2cf16",
        "colab": {
          "base_uri": "https://localhost:8080/"
        }
      },
      "source": [
        "n_neurons = len(spike_times)\n",
        "total_spikes_per_neuron = [len(spike_times_i) for spike_times_i in spike_times]\n",
        "\n",
        "print(f\"Number of neurons: {n_neurons}\")\n",
        "print(f\"Number of spikes for first five neurons: {total_spikes_per_neuron[:5]}\")"
      ],
      "execution_count": 20,
      "outputs": [
        {
          "output_type": "stream",
          "text": [
            "Number of neurons: 734\n",
            "Number of spikes for first five neurons: [826, 2818, 3953, 646, 1115]\n"
          ],
          "name": "stdout"
        }
      ]
    },
    {
      "cell_type": "code",
      "metadata": {
        "cellView": "form",
        "execution": {
          "iopub.execute_input": "2021-07-03T17:54:20.748484Z",
          "iopub.status.busy": "2021-07-03T17:54:20.746673Z",
          "iopub.status.idle": "2021-07-03T17:54:20.806460Z",
          "shell.execute_reply": "2021-07-03T17:54:20.803939Z"
        },
        "id": "YSCrKJ3DkGeI"
      },
      "source": [
        "# @title Video 2: Exploring the dataset\n",
        "from ipywidgets import widgets\n",
        "\n",
        "out2 = widgets.Output()\n",
        "with out2:\n",
        "  from IPython.display import IFrame\n",
        "  class BiliVideo(IFrame):\n",
        "      def __init__(self, id, page=1, width=400, height=300, **kwargs):\n",
        "          self.id=id\n",
        "          src = 'https://player.bilibili.com/player.html?bvid={0}&page={1}'.format(id, page)\n",
        "          super(BiliVideo, self).__init__(src, width, height, **kwargs)\n",
        "\n",
        "  video = BiliVideo(id=\"BV1Hp4y1S7Au\", width=854, height=480, fs=1)\n",
        "  print('Video available at https://www.bilibili.com/video/{0}'.format(video.id))\n",
        "  display(video)\n",
        "\n",
        "out1 = widgets.Output()\n",
        "with out1:\n",
        "  from IPython.display import YouTubeVideo\n",
        "  video = YouTubeVideo(id=\"oHwYWUI_o1U\", width=854, height=480, fs=1, rel=0)\n",
        "  print('Video available at https://youtube.com/watch?v=' + video.id)\n",
        "  display(video)\n",
        "\n",
        "out = widgets.Tab([out1, out2])\n",
        "out.set_title(0, 'Youtube')\n",
        "out.set_title(1, 'Bilibili')\n",
        "\n",
        "display(out)"
      ],
      "execution_count": null,
      "outputs": []
    },
    {
      "cell_type": "markdown",
      "metadata": {
        "id": "qdx-mQVVkGeJ"
      },
      "source": [
        "## Section 1.2: Getting warmer: counting and plotting total spike counts\n",
        "\n",
        "As we've seen, the number of spikes over the entire recording is variable between neurons. More generally, some neurons tend to spike more than others in a given period. Lets explore what the distribution of spiking looks like across all the neurons in the dataset."
      ]
    },
    {
      "cell_type": "markdown",
      "metadata": {
        "id": "il_fcELwkGeJ"
      },
      "source": [
        "Are most neurons \"loud\" or \"quiet\", compared to the average? To see, we'll define bins of constant width in terms of total spikes and count the neurons that fall in each bin. This is known as a \"histogram\".\n",
        "\n",
        "You can plot a histogram with the matplotlib function `plt.hist`. If you just need to compute it, you can use the numpy function `np.histogram` instead."
      ]
    },
    {
      "cell_type": "code",
      "metadata": {
        "execution": {
          "iopub.execute_input": "2021-07-03T17:54:20.831106Z",
          "iopub.status.busy": "2021-07-03T17:54:20.830471Z",
          "iopub.status.idle": "2021-07-03T17:54:21.104468Z",
          "shell.execute_reply": "2021-07-03T17:54:21.103509Z"
        },
        "pycharm": {
          "name": "#%%\n"
        },
        "id": "NLgLMByikGeJ",
        "outputId": "2abef7d3-5e61-49d6-ae9e-dca8ddf29dd2",
        "colab": {
          "base_uri": "https://localhost:8080/",
          "height": 431
        }
      },
      "source": [
        "plt.hist(total_spikes_per_neuron, bins=50, histtype=\"stepfilled\")\n",
        "plt.xlabel(\"Total spikes per neuron\")\n",
        "plt.ylabel(\"Number of neurons\");"
      ],
      "execution_count": 25,
      "outputs": [
        {
          "output_type": "display_data",
          "data": {
            "image/png": "[encoded data removed]",
            "text/plain": [
              "<Figure size 576x432 with 1 Axes>"
            ]
          },
          "metadata": {
            "tags": [],
            "image/png": {
              "width": 558,
              "height": 414
            },
            "needs_background": "light"
          }
        }
      ]
    },
    {
      "cell_type": "markdown",
      "metadata": {
        "id": "5TBWYrC3kGeJ"
      },
      "source": [
        "Let's see what percentage of neurons have a below-average spike count:"
      ]
    },
    {
      "cell_type": "code",
      "metadata": {
        "execution": {
          "iopub.execute_input": "2021-07-03T17:54:21.109765Z",
          "iopub.status.busy": "2021-07-03T17:54:21.109111Z",
          "iopub.status.idle": "2021-07-03T17:54:21.113872Z",
          "shell.execute_reply": "2021-07-03T17:54:21.113384Z"
        },
        "pycharm": {
          "name": "#%%\n"
        },
        "id": "M6xdZP7lkGeJ",
        "outputId": "5104a471-f511-41d0-ad59-98813c657778",
        "colab": {
          "base_uri": "https://localhost:8080/"
        }
      },
      "source": [
        "mean_spike_count = np.mean(total_spikes_per_neuron)\n",
        "frac_below_mean = (total_spikes_per_neuron < mean_spike_count).mean()\n",
        "print(f\"{frac_below_mean:.3%} of neurons are below the mean\")"
      ],
      "execution_count": 35,
      "outputs": [
        {
          "output_type": "stream",
          "text": [
            "67.984% of neurons are below the mean\n"
          ],
          "name": "stdout"
        }
      ]
    },
    {
      "cell_type": "markdown",
      "metadata": {
        "id": "Xc5zE-3jkGeK"
      },
      "source": [
        "We can also see this by adding the average spike count to the histogram plot:"
      ]
    },
    {
      "cell_type": "code",
      "metadata": {
        "execution": {
          "iopub.execute_input": "2021-07-03T17:54:21.143165Z",
          "iopub.status.busy": "2021-07-03T17:54:21.142193Z",
          "iopub.status.idle": "2021-07-03T17:54:21.408641Z",
          "shell.execute_reply": "2021-07-03T17:54:21.408096Z"
        },
        "pycharm": {
          "name": "#%%\n"
        },
        "id": "gEjsTMtKkGeL",
        "outputId": "cb0ca17a-fd1b-43af-9cba-ed7ab1c029c2",
        "colab": {
          "base_uri": "https://localhost:8080/",
          "height": 431
        }
      },
      "source": [
        "plt.hist(total_spikes_per_neuron, bins=50, histtype=\"stepfilled\")\n",
        "plt.xlabel(\"Total spikes per neuron\")\n",
        "plt.ylabel(\"Number of neurons\")\n",
        "plt.axvline(mean_spike_count, color=\"orange\", label=\"Mean neuron\")\n",
        "plt.legend();"
      ],
      "execution_count": 38,
      "outputs": [
        {
          "output_type": "display_data",
          "data": {
            "image/png": "[encoded data removed]",
            "text/plain": [
              "<Figure size 576x432 with 1 Axes>"
            ]
          },
          "metadata": {
            "tags": [],
            "image/png": {
              "width": 558,
              "height": 414
            },
            "needs_background": "light"
          }
        }
      ]
    },
    {
      "cell_type": "markdown",
      "metadata": {
        "id": "mTiHHL7EkGeL"
      },
      "source": [
        "This shows that the majority of neurons are relatively \"quiet\" compared to the mean, while a small number of neurons are exceptionally \"loud\": they must have spiked more often to reach a large count.\n",
        "\n",
        "### Coding Exercise 1.2: Comparing mean and median neurons\n",
        "\n",
        "If the mean neuron is more active than 68% of the population, what does that imply about the relationship between the mean neuron and the median neuron?\n",
        "\n",
        "*Exercise objective:* Reproduce the plot above, but add the median neuron.\n"
      ]
    },
    {
      "cell_type": "code",
      "metadata": {
        "execution": {
          "iopub.execute_input": "2021-07-03T17:54:21.417212Z",
          "iopub.status.busy": "2021-07-03T17:54:21.416528Z",
          "iopub.status.idle": "2021-07-03T17:54:21.534528Z",
          "shell.execute_reply": "2021-07-03T17:54:21.532642Z"
        },
        "pycharm": {
          "name": "#%%\n"
        },
        "id": "nvbq0C4BkGeL",
        "outputId": "0cf9e219-c852-4cf5-abf9-dd8dbb73fc44",
        "colab": {
          "base_uri": "https://localhost:8080/",
          "height": 467
        }
      },
      "source": [
        "#################################################################################\n",
        "# raise NotImplementedError(\"Student exercise: complete histogram plotting with median\")\n",
        "#################################################################################\n",
        "\n",
        "# Compute median spike count\n",
        "median_spike_count = np.median(total_spikes_per_neuron)\n",
        "m2 = sorted(total_spikes_per_neuron)[734//2] # this is how you calc median\n",
        "\n",
        "print(m2, median_spike_count)\n",
        "\n",
        "# Visualize median, mean, and histogram\n",
        "plt.hist(total_spikes_per_neuron, bins=50, histtype=\"stepfilled\")\n",
        "plt.axvline(median_spike_count, color=\"limegreen\", label=\"Median neuron\")\n",
        "plt.axvline(mean_spike_count, color=\"orange\", label=\"Mean neuron\")\n",
        "plt.xlabel(\"Total spikes per neuron\")\n",
        "plt.ylabel(\"Number of neurons\")\n",
        "plt.legend()"
      ],
      "execution_count": 40,
      "outputs": [
        {
          "output_type": "stream",
          "text": [
            "5128 5128.0\n"
          ],
          "name": "stdout"
        },
        {
          "output_type": "execute_result",
          "data": {
            "text/plain": [
              "<matplotlib.legend.Legend at 0x7f1e014a0dd0>"
            ]
          },
          "metadata": {
            "tags": []
          },
          "execution_count": 40
        },
        {
          "output_type": "display_data",
          "data": {
            "image/png": "[encoded data removed]",
            "text/plain": [
              "<Figure size 576x432 with 1 Axes>"
            ]
          },
          "metadata": {
            "tags": [],
            "image/png": {
              "width": 558,
              "height": 414
            },
            "needs_background": "light"
          }
        }
      ]
    },
    {
      "cell_type": "markdown",
      "metadata": {
        "execution": {
          "iopub.execute_input": "2021-07-03T17:54:21.567423Z",
          "iopub.status.busy": "2021-07-03T17:54:21.566322Z",
          "iopub.status.idle": "2021-07-03T17:54:21.931828Z",
          "shell.execute_reply": "2021-07-03T17:54:21.932371Z"
        },
        "pycharm": {
          "name": "#%%\n"
        },
        "id": "U2hHQUx7kGeL"
      },
      "source": [
        "[*Click for solution*](https://github.com/NeuromatchAcademy/course-content/tree/master//tutorials/W1D1_ModelTypes/solutions/W1D1_Tutorial1_Solution_9af91fe0.py)\n",
        "\n",
        "*Example output:*\n",
        "\n",
        "<img alt='Solution hint' align='left' width=1116.0 height=827.0 src=https://raw.githubusercontent.com/NeuromatchAcademy/course-content/master/tutorials/W1D1_ModelTypes/static/W1D1_Tutorial1_Solution_9af91fe0_0.png>\n",
        "\n"
      ]
    },
    {
      "cell_type": "markdown",
      "metadata": {
        "id": "4TJg5xySkGeL"
      },
      "source": [
        "\n",
        "*Bonus:* The median is the 50th percentile. What about other percentiles? Can you show the interquartile range on the histogram?"
      ]
    },
    {
      "cell_type": "markdown",
      "metadata": {
        "id": "FIBCR04BkGeL"
      },
      "source": [
        "---\n",
        "\n",
        "# Section 2: Visualizing neuronal spiking activity\n",
        "\n",
        "*Estimated timing to here from start of tutorial: 15 min*"
      ]
    },
    {
      "cell_type": "markdown",
      "metadata": {
        "id": "gQW1wWQwkGeL"
      },
      "source": [
        "## Section 2.1: Getting a subset of the data\n",
        "\n",
        "Now we'll visualize trains of spikes. Because the recordings are long, we will first define a short time interval and restrict the visualization to only the spikes in this interval. We defined a helper function, `restrict_spike_times`, to do this for you. If you call `help()` on the function, it will tell you a little bit about itself:"
      ]
    },
    {
      "cell_type": "code",
      "metadata": {
        "execution": {
          "iopub.execute_input": "2021-07-03T17:54:21.939391Z",
          "iopub.status.busy": "2021-07-03T17:54:21.938026Z",
          "iopub.status.idle": "2021-07-03T17:54:21.940041Z",
          "shell.execute_reply": "2021-07-03T17:54:21.940561Z"
        },
        "id": "Ef4Q4tKzkGeL"
      },
      "source": [
        "# @markdown Execute this cell for helper function `restrict_spike_times`\n",
        "def restrict_spike_times(spike_times, interval):\n",
        "  \"\"\"Given a spike_time dataset, restrict to spikes within given interval.\n",
        "\n",
        "  Args:\n",
        "    spike_times (sequence of np.ndarray): List or array of arrays,\n",
        "      each inner array has spike times for a single neuron.\n",
        "    interval (tuple): Min, max time values; keep min <= t < max.\n",
        "\n",
        "  Returns:\n",
        "    np.ndarray: like `spike_times`, but only within `interval`\n",
        "  \"\"\"\n",
        "  interval_spike_times = []\n",
        "  for spikes in spike_times:\n",
        "    interval_mask = (spikes >= interval[0]) & (spikes < interval[1])\n",
        "    interval_spike_times.append(spikes[interval_mask])\n",
        "  return np.array(interval_spike_times, object)"
      ],
      "execution_count": 42,
      "outputs": []
    },
    {
      "cell_type": "code",
      "metadata": {
        "execution": {
          "iopub.execute_input": "2021-07-03T17:54:21.946273Z",
          "iopub.status.busy": "2021-07-03T17:54:21.944852Z",
          "iopub.status.idle": "2021-07-03T17:54:21.948195Z",
          "shell.execute_reply": "2021-07-03T17:54:21.947642Z"
        },
        "pycharm": {
          "name": "#%%\n"
        },
        "id": "Fax428nUkGeM",
        "outputId": "0b23d2f0-ab05-418e-b804-f46cba22a39b",
        "colab": {
          "base_uri": "https://localhost:8080/"
        }
      },
      "source": [
        "help(restrict_spike_times)"
      ],
      "execution_count": 43,
      "outputs": [
        {
          "output_type": "stream",
          "text": [
            "Help on function restrict_spike_times in module __main__:\n",
            "\n",
            "restrict_spike_times(spike_times, interval)\n",
            "    Given a spike_time dataset, restrict to spikes within given interval.\n",
            "    \n",
            "    Args:\n",
            "      spike_times (sequence of np.ndarray): List or array of arrays,\n",
            "        each inner array has spike times for a single neuron.\n",
            "      interval (tuple): Min, max time values; keep min <= t < max.\n",
            "    \n",
            "    Returns:\n",
            "      np.ndarray: like `spike_times`, but only within `interval`\n",
            "\n"
          ],
          "name": "stdout"
        }
      ]
    },
    {
      "cell_type": "code",
      "metadata": {
        "execution": {
          "iopub.execute_input": "2021-07-03T17:54:21.952491Z",
          "iopub.status.busy": "2021-07-03T17:54:21.951885Z",
          "iopub.status.idle": "2021-07-03T17:54:21.967180Z",
          "shell.execute_reply": "2021-07-03T17:54:21.966623Z"
        },
        "pycharm": {
          "name": "#%%\n"
        },
        "id": "QN85xHSCkGeN"
      },
      "source": [
        "t_interval = (5, 15)  # units are seconds after start of recording\n",
        "interval_spike_times = restrict_spike_times(spike_times, t_interval)"
      ],
      "execution_count": 45,
      "outputs": []
    },
    {
      "cell_type": "markdown",
      "metadata": {
        "id": "qNS3xomUkGeN"
      },
      "source": [
        "Is this a representative interval? What fraction of the total spikes fall in this interval?"
      ]
    },
    {
      "cell_type": "code",
      "metadata": {
        "execution": {
          "iopub.execute_input": "2021-07-03T17:54:21.973917Z",
          "iopub.status.busy": "2021-07-03T17:54:21.972504Z",
          "iopub.status.idle": "2021-07-03T17:54:21.976061Z",
          "shell.execute_reply": "2021-07-03T17:54:21.975519Z"
        },
        "pycharm": {
          "name": "#%%\n"
        },
        "id": "ImSMLhPhkGeN",
        "outputId": "69c969c7-9a2f-4fd7-870a-beece89ce654",
        "colab": {
          "base_uri": "https://localhost:8080/"
        }
      },
      "source": [
        "original_counts = sum([len(spikes) for spikes in spike_times])\n",
        "interval_counts = sum([len(spikes) for spikes in interval_spike_times])\n",
        "frac_interval_spikes = interval_counts / original_counts\n",
        "print(f\"{frac_interval_spikes:.2%} of the total spikes are in the interval\")"
      ],
      "execution_count": 46,
      "outputs": [
        {
          "output_type": "stream",
          "text": [
            "0.33% of the total spikes are in the interval\n"
          ],
          "name": "stdout"
        }
      ]
    },
    {
      "cell_type": "markdown",
      "metadata": {
        "id": "HONqZdapkGeO"
      },
      "source": [
        "How does this compare to the ratio between the interval duration and the experiment duration? (What fraction of the total time is in this interval?)\n",
        "\n",
        "We can approximate the experiment duration by taking the minimum and maximum spike time in the whole dataset. To do that, we \"concatenate\" all of the neurons into one array and then use `np.ptp` (\"peak-to-peak\") to get the difference between the maximum and minimum value:"
      ]
    },
    {
      "cell_type": "code",
      "metadata": {
        "execution": {
          "iopub.execute_input": "2021-07-03T17:54:21.980602Z",
          "iopub.status.busy": "2021-07-03T17:54:21.980011Z",
          "iopub.status.idle": "2021-07-03T17:54:21.999935Z",
          "shell.execute_reply": "2021-07-03T17:54:22.000568Z"
        },
        "pycharm": {
          "name": "#%%\n"
        },
        "id": "XHAqtTepkGeP",
        "outputId": "946125f3-5649-49ca-9782-6c21dc5e3377",
        "colab": {
          "base_uri": "https://localhost:8080/"
        }
      },
      "source": [
        "spike_times_flat = np.concatenate(spike_times)\n",
        "print(\"Max is \", max(spike_times_flat))\n",
        "print(\"Min is \", min(spike_times_flat))\n",
        "\n",
        "experiment_duration = np.ptp(spike_times_flat)\n",
        "print(\"PTP is \", experiment_duration)\n",
        "\n",
        "interval_duration = t_interval[1] - t_interval[0]\n",
        "\n",
        "frac_interval_time = interval_duration / experiment_duration\n",
        "print(f\"{frac_interval_time:.2%} of the total time is in the interval\")"
      ],
      "execution_count": 48,
      "outputs": [
        {
          "output_type": "stream",
          "text": [
            "Max is  2702.643\n",
            "Min is  0.0033666666\n",
            "PTP is  2702.6396\n",
            "0.37% of the total time is in the interval\n"
          ],
          "name": "stdout"
        }
      ]
    },
    {
      "cell_type": "markdown",
      "metadata": {
        "id": "1IgAVke_kGeP"
      },
      "source": [
        "These two values—the fraction of total spikes and the fraction of total time—are similar. This suggests the average spike rate of the neuronal population is not very different in this interval compared to the entire recording.\n",
        "\n",
        "## Section 2.2: Plotting spike trains and rasters\n",
        "\n",
        "Now that we have a representative subset, we're ready to plot the spikes, using the matplotlib `plt.eventplot` function. Let's look at a single neuron first:"
      ]
    },
    {
      "cell_type": "code",
      "metadata": {
        "execution": {
          "iopub.execute_input": "2021-07-03T17:54:22.019853Z",
          "iopub.status.busy": "2021-07-03T17:54:22.019192Z",
          "iopub.status.idle": "2021-07-03T17:54:22.196514Z",
          "shell.execute_reply": "2021-07-03T17:54:22.195642Z"
        },
        "pycharm": {
          "name": "#%%\n"
        },
        "id": "JCKfJ8PfkGeQ",
        "outputId": "7c1f5e05-f347-4256-aa36-a81d4d60c7f0",
        "colab": {
          "base_uri": "https://localhost:8080/",
          "height": 431
        }
      },
      "source": [
        "neuron_idx = 1\n",
        "plt.eventplot(interval_spike_times[neuron_idx], color=\".2\")\n",
        "plt.xlabel(\"Time (s)\")\n",
        "plt.yticks([]);"
      ],
      "execution_count": 49,
      "outputs": [
        {
          "output_type": "display_data",
          "data": {
            "image/png": "[encoded data removed]",
            "text/plain": [
              "<Figure size 576x432 with 1 Axes>"
            ]
          },
          "metadata": {
            "tags": [],
            "image/png": {
              "width": 557,
              "height": 414
            },
            "needs_background": "light"
          }
        }
      ]
    },
    {
      "cell_type": "markdown",
      "metadata": {
        "id": "9qnJIJChkGeQ"
      },
      "source": [
        "We can also plot multiple neurons. Here are three:"
      ]
    },
    {
      "cell_type": "code",
      "metadata": {
        "execution": {
          "iopub.execute_input": "2021-07-03T17:54:22.270761Z",
          "iopub.status.busy": "2021-07-03T17:54:22.270162Z",
          "iopub.status.idle": "2021-07-03T17:54:22.424884Z",
          "shell.execute_reply": "2021-07-03T17:54:22.423869Z"
        },
        "pycharm": {
          "name": "#%%\n"
        },
        "id": "Zeq95KyekGeR",
        "outputId": "a4ac1563-eac2-4bbd-a7e3-9465a6e61f39",
        "colab": {
          "base_uri": "https://localhost:8080/",
          "height": 431
        }
      },
      "source": [
        "neuron_idx = [1, 11, 51]\n",
        "plt.eventplot(interval_spike_times, color=\".2\")\n",
        "plt.xlabel(\"Time (s)\")\n",
        "plt.yticks([]);"
      ],
      "execution_count": 51,
      "outputs": [
        {
          "output_type": "display_data",
          "data": {
            "image/png": "[encoded data removed]",
            "text/plain": [
              "<Figure size 576x432 with 1 Axes>"
            ]
          },
          "metadata": {
            "tags": [],
            "image/png": {
              "width": 557,
              "height": 414
            },
            "needs_background": "light"
          }
        }
      ]
    },
    {
      "cell_type": "markdown",
      "metadata": {
        "id": "9SGfdUIDkGeR"
      },
      "source": [
        "This makes a \"raster\" plot, where the spikes from each neuron appear in a different row.\n",
        "\n",
        "Plotting a large number of neurons can give you a sense for the characteristics in the population. Let's show every 5th neuron that was recorded:"
      ]
    },
    {
      "cell_type": "code",
      "metadata": {
        "execution": {
          "iopub.execute_input": "2021-07-03T17:54:22.439900Z",
          "iopub.status.busy": "2021-07-03T17:54:22.438828Z",
          "iopub.status.idle": "2021-07-03T17:54:22.879608Z",
          "shell.execute_reply": "2021-07-03T17:54:22.878363Z"
        },
        "pycharm": {
          "name": "#%%\n"
        },
        "id": "TKuZ9wo9kGeR",
        "outputId": "cec72a70-5913-4be6-ddd8-cfbf76f04076",
        "colab": {
          "base_uri": "https://localhost:8080/",
          "height": 430
        }
      },
      "source": [
        "neuron_idx = np.arange(0, len(spike_times), 5)\n",
        "plt.eventplot(interval_spike_times[neuron_idx], color=\".2\")\n",
        "plt.xlabel(\"Time (s)\")\n",
        "plt.yticks([]);"
      ],
      "execution_count": 52,
      "outputs": [
        {
          "output_type": "display_data",
          "data": {
            "image/png": "[encoded data removed]",
            "text/plain": [
              "<Figure size 576x432 with 1 Axes>"
            ]
          },
          "metadata": {
            "tags": [],
            "image/png": {
              "width": 558,
              "height": 413
            },
            "needs_background": "light"
          }
        }
      ]
    },
    {
      "cell_type": "markdown",
      "metadata": {
        "id": "CaPc9XPakGeR"
      },
      "source": [
        "*Question*: How does the information in this plot relate to the histogram of total spike counts that you saw above?"
      ]
    },
    {
      "cell_type": "markdown",
      "metadata": {
        "execution": {
          "iopub.execute_input": "2021-07-03T17:54:22.884637Z",
          "iopub.status.busy": "2021-07-03T17:54:22.883994Z",
          "iopub.status.idle": "2021-07-03T17:54:22.889216Z",
          "shell.execute_reply": "2021-07-03T17:54:22.890231Z"
        },
        "id": "EUrV4gfdkGeS"
      },
      "source": [
        "[*Click for solution*](https://github.com/NeuromatchAcademy/course-content/tree/master//tutorials/W1D1_ModelTypes/solutions/W1D1_Tutorial1_Solution_b01195c9.py)\n",
        "\n"
      ]
    },
    {
      "cell_type": "code",
      "metadata": {
        "cellView": "form",
        "execution": {
          "iopub.execute_input": "2021-07-03T17:54:22.903300Z",
          "iopub.status.busy": "2021-07-03T17:54:22.902309Z",
          "iopub.status.idle": "2021-07-03T17:54:22.968449Z",
          "shell.execute_reply": "2021-07-03T17:54:22.967927Z"
        },
        "id": "EPJiUT2XkGeS"
      },
      "source": [
        "# @title Video 3: Visualizing activity\n",
        "from ipywidgets import widgets\n",
        "\n",
        "out2 = widgets.Output()\n",
        "with out2:\n",
        "  from IPython.display import IFrame\n",
        "  class BiliVideo(IFrame):\n",
        "      def __init__(self, id, page=1, width=400, height=300, **kwargs):\n",
        "          self.id=id\n",
        "          src = 'https://player.bilibili.com/player.html?bvid={0}&page={1}'.format(id, page)\n",
        "          super(BiliVideo, self).__init__(src, width, height, **kwargs)\n",
        "\n",
        "  video = BiliVideo(id=\"BV1dt4y1Q7C5\", width=854, height=480, fs=1)\n",
        "  print('Video available at https://www.bilibili.com/video/{0}'.format(video.id))\n",
        "  display(video)\n",
        "\n",
        "out1 = widgets.Output()\n",
        "with out1:\n",
        "  from IPython.display import YouTubeVideo\n",
        "  video = YouTubeVideo(id=\"QGA5FCW7kkA\", width=854, height=480, fs=1, rel=0)\n",
        "  print('Video available at https://youtube.com/watch?v=' + video.id)\n",
        "  display(video)\n",
        "\n",
        "out = widgets.Tab([out1, out2])\n",
        "out.set_title(0, 'Youtube')\n",
        "out.set_title(1, 'Bilibili')\n",
        "\n",
        "display(out)"
      ],
      "execution_count": null,
      "outputs": []
    },
    {
      "cell_type": "markdown",
      "metadata": {
        "id": "C5KiILKBkGeS"
      },
      "source": [
        "---\n",
        "\n",
        "# Section 3: Inter-spike intervals and their distributions\n",
        "\n",
        "*Estimated timing to here from start of tutorial: 25 min*"
      ]
    },
    {
      "cell_type": "markdown",
      "metadata": {
        "id": "sEaWR9rhkGeT"
      },
      "source": [
        "Given the ordered arrays of spike times for each neuron in `spike_times`, which we've just visualized, what can we ask next?\n",
        "\n",
        "Scientific questions are informed by existing models. So, what knowledge do we already have that can inform questions about this data?\n",
        "\n",
        "We know that there are physical constraints on neuron spiking. Spiking costs energy, which the neuron's cellular machinery can only obtain at a finite rate. Therefore neurons should have a refractory period: they can only fire as quickly as their metabolic processes can support, and there is a minimum delay between consecutive spikes of the same neuron.\n",
        "\n",
        "More generally, we can ask \"how long does a neuron wait to spike again?\" or \"what is the longest a neuron will wait?\" Can we transform spike times into something else, to address questions like these more directly?\n",
        "\n",
        "We can consider the inter-spike times (or interspike intervals: ISIs). These are simply the time differences between consecutive spikes of the same neuron.\n",
        "\n",
        "### Exercise 3: Plot the distribution of ISIs for a single neuron\n",
        "\n",
        "*Exercise objective:* make a histogram, like we did for spike counts, to show the distribution of ISIs for one of the neurons in the dataset.\n",
        "\n",
        "Do this in three steps:\n",
        "\n",
        "1. Extract the spike times for one of the neurons\n",
        "2. Compute the ISIs (the amount of time between spikes, or equivalently, the difference between adjacent spike times)\n",
        "3. Plot a histogram with the array of individual ISIs"
      ]
    },
    {
      "cell_type": "code",
      "metadata": {
        "execution": {
          "iopub.execute_input": "2021-07-03T17:54:22.982203Z",
          "iopub.status.busy": "2021-07-03T17:54:22.981593Z",
          "iopub.status.idle": "2021-07-03T17:54:22.989786Z",
          "shell.execute_reply": "2021-07-03T17:54:22.989137Z"
        },
        "pycharm": {
          "name": "#%%\n"
        },
        "id": "oykdDnfnkGeT",
        "outputId": "49f42a6f-3d1a-4441-d0d8-65a4d3833bfa",
        "colab": {
          "base_uri": "https://localhost:8080/",
          "height": 430
        }
      },
      "source": [
        "def compute_single_neuron_isis(spike_times, neuron_idx):\n",
        "  \"\"\"Compute a vector of ISIs for a single neuron given spike times.\n",
        "\n",
        "  Args:\n",
        "    spike_times (list of 1D arrays): Spike time dataset, with the first\n",
        "      dimension corresponding to different neurons.\n",
        "    neuron_idx (int): Index of the unit to compute ISIs for.\n",
        "\n",
        "  Returns:\n",
        "    isis (1D array): Duration of time between each spike from one neuron.\n",
        "  \"\"\"\n",
        "  # Extract the spike times for the specified neuron\n",
        "  single_neuron_spikes = spike_times[neuron_idx]\n",
        "\n",
        "  # Compute the ISIs for this set of spikes\n",
        "  # Hint: the function np.diff computes discrete differences along an array\n",
        "  isis = np.diff(single_neuron_spikes)\n",
        "\n",
        "  return isis\n",
        "\n",
        "# Compute ISIs\n",
        "single_neuron_isis = compute_single_neuron_isis(spike_times, neuron_idx=283)\n",
        "\n",
        "# Visualize ISIs\n",
        "plot_isis(single_neuron_isis)"
      ],
      "execution_count": 53,
      "outputs": [
        {
          "output_type": "display_data",
          "data": {
            "image/png": "[encoded data removed]",
            "text/plain": [
              "<Figure size 576x432 with 1 Axes>"
            ]
          },
          "metadata": {
            "tags": [],
            "image/png": {
              "width": 558,
              "height": 413
            },
            "needs_background": "light"
          }
        }
      ]
    },
    {
      "cell_type": "markdown",
      "metadata": {
        "execution": {
          "iopub.execute_input": "2021-07-03T17:54:22.998186Z",
          "iopub.status.busy": "2021-07-03T17:54:22.997577Z",
          "iopub.status.idle": "2021-07-03T17:54:23.356486Z",
          "shell.execute_reply": "2021-07-03T17:54:23.355980Z"
        },
        "pycharm": {
          "name": "#%%\n"
        },
        "id": "6z5KPA31kGeT"
      },
      "source": [
        "[*Click for solution*](https://github.com/NeuromatchAcademy/course-content/tree/master//tutorials/W1D1_ModelTypes/solutions/W1D1_Tutorial1_Solution_2972c168.py)\n",
        "\n",
        "*Example output:*\n",
        "\n",
        "<img alt='Solution hint' align='left' width=1116.0 height=828.0 src=https://raw.githubusercontent.com/NeuromatchAcademy/course-content/master/tutorials/W1D1_ModelTypes/static/W1D1_Tutorial1_Solution_2972c168_0.png>\n",
        "\n"
      ]
    },
    {
      "cell_type": "markdown",
      "metadata": {
        "id": "We5Wt8HrkGeT"
      },
      "source": [
        "---\n",
        "\n",
        "In general, the shorter ISIs are predominant, with counts decreasing rapidly (and smoothly, more or less) with increasing ISI. However, counts also rapidly decrease to zero with _decreasing_ ISI below the maximum of the distribution (8-11 ms). The absence of these very low ISIs agrees with the refractory period hypothesis: the neuron cannot fire quickly enough to populate this region of the ISI distribution.\n",
        "\n",
        "Check the distributions of some other neurons. To resolve various features of the distributions, you might need to play with the value of `n_bins`. Using too few bins might smooth over interesting details, but if you use too many bins, the random variability will start to dominate.\n",
        "\n",
        "You might also want to restrict the range to see the shape of the distribution when focusing on relatively short or long ISIs. *Hint:* `plt.hist` takes a `range` argument"
      ]
    },
    {
      "cell_type": "markdown",
      "metadata": {
        "id": "gLyjcbOKkGeU"
      },
      "source": [
        "---\n",
        "\n",
        "# Section 4: What is the functional form of an ISI distribution?\n",
        "\n",
        "*Estimated timing to here from start of tutorial: 35 min*"
      ]
    },
    {
      "cell_type": "code",
      "metadata": {
        "cellView": "form",
        "execution": {
          "iopub.execute_input": "2021-07-03T17:54:23.369679Z",
          "iopub.status.busy": "2021-07-03T17:54:23.369060Z",
          "iopub.status.idle": "2021-07-03T17:54:23.429414Z",
          "shell.execute_reply": "2021-07-03T17:54:23.428823Z"
        },
        "id": "yQWHSY5akGeU"
      },
      "source": [
        "# @title Video 4: ISI distribution\n",
        "from ipywidgets import widgets\n",
        "\n",
        "out2 = widgets.Output()\n",
        "with out2:\n",
        "  from IPython.display import IFrame\n",
        "  class BiliVideo(IFrame):\n",
        "      def __init__(self, id, page=1, width=400, height=300, **kwargs):\n",
        "          self.id=id\n",
        "          src = 'https://player.bilibili.com/player.html?bvid={0}&page={1}'.format(id, page)\n",
        "          super(BiliVideo, self).__init__(src, width, height, **kwargs)\n",
        "\n",
        "  video = BiliVideo(id=\"BV1ov411B7Pm\", width=854, height=480, fs=1)\n",
        "  print('Video available at https://www.bilibili.com/video/{0}'.format(video.id))\n",
        "  display(video)\n",
        "\n",
        "out1 = widgets.Output()\n",
        "with out1:\n",
        "  from IPython.display import YouTubeVideo\n",
        "  video = YouTubeVideo(id=\"DHhM80MOTe8\", width=854, height=480, fs=1, rel=0)\n",
        "  print('Video available at https://youtube.com/watch?v=' + video.id)\n",
        "  display(video)\n",
        "\n",
        "out = widgets.Tab([out1, out2])\n",
        "out.set_title(0, 'Youtube')\n",
        "out.set_title(1, 'Bilibili')\n",
        "\n",
        "display(out)"
      ],
      "execution_count": null,
      "outputs": []
    },
    {
      "cell_type": "markdown",
      "metadata": {
        "id": "QFLIEZQWkGeV"
      },
      "source": [
        "The ISI histograms seem to follow continuous, monotonically decreasing functions above their maxima. The function is clearly non-linear. Could it belong to a single family of functions?\n",
        "\n",
        "To motivate the idea of using a mathematical function to explain physiological phenomena, let's define a few different function forms that we might expect the relationship to follow: exponential, inverse, and linear."
      ]
    },
    {
      "cell_type": "code",
      "metadata": {
        "execution": {
          "iopub.execute_input": "2021-07-03T17:54:23.445271Z",
          "iopub.status.busy": "2021-07-03T17:54:23.443840Z",
          "iopub.status.idle": "2021-07-03T17:54:23.446205Z",
          "shell.execute_reply": "2021-07-03T17:54:23.446819Z"
        },
        "pycharm": {
          "name": "#%%\n"
        },
        "id": "2qI-eNeckGeV"
      },
      "source": [
        "def exponential(xs, scale, rate, x0):\n",
        "  \"\"\"A simple parametrized exponential function, applied element-wise.\n",
        "\n",
        "  Args:\n",
        "    xs (np.ndarray or float): Input(s) to the function.\n",
        "    scale (float): Linear scaling factor.\n",
        "    rate (float): Exponential growth (positive) or decay (negative) rate.\n",
        "    x0 (float): Horizontal offset.\n",
        "\n",
        "  \"\"\"\n",
        "  ys = scale * np.exp(rate * (xs - x0))\n",
        "  return ys\n",
        "\n",
        "def inverse(xs, scale, x0):\n",
        "  \"\"\"A simple parametrized inverse function (`1/x`), applied element-wise.\n",
        "\n",
        "  Args:\n",
        "    xs (np.ndarray or float): Input(s) to the function.\n",
        "    scale (float): Linear scaling factor.\n",
        "    x0 (float): Horizontal offset.\n",
        "\n",
        "  \"\"\"\n",
        "  ys = scale / (xs - x0)\n",
        "  return ys\n",
        "\n",
        "def linear(xs, slope, y0):\n",
        "  \"\"\"A simple linear function, applied element-wise.\n",
        "\n",
        "  Args:\n",
        "    xs (np.ndarray or float): Input(s) to the function.\n",
        "    slope (float): Slope of the line.\n",
        "    y0 (float): y-intercept of the line.\n",
        "\n",
        "  \"\"\"\n",
        "  ys = slope * xs + y0\n",
        "  return ys"
      ],
      "execution_count": 54,
      "outputs": []
    },
    {
      "cell_type": "markdown",
      "metadata": {
        "id": "HKc21C1KkGeV"
      },
      "source": [
        "### Interactive Demo 4: ISI functions explorer\n",
        "\n",
        "Here is an interactive demo where you can vary the parameters of these functions and see how well the resulting outputs correspond to the data. Adjust the parameters by moving the sliders and see how close you can get the lines to follow the falling curve of the histogram. This will give you a taste of what you're trying to do when you *fit a model* to data.\n",
        "\n",
        "\"Interactive demo\" cells have hidden code that defines an interface where you can play with the parameters of some function using sliders. You don't need to worry about how the code works – but you do need to **run the cell** to enable the sliders.\n",
        "\n",
        "- Which type of function (exponential/inverse/linear) can you make match the data best?\n"
      ]
    },
    {
      "cell_type": "code",
      "metadata": {
        "cellView": "form",
        "execution": {
          "iopub.execute_input": "2021-07-03T17:54:23.458648Z",
          "iopub.status.busy": "2021-07-03T17:54:23.454106Z",
          "iopub.status.idle": "2021-07-03T17:54:23.875898Z",
          "shell.execute_reply": "2021-07-03T17:54:23.876365Z"
        },
        "pycharm": {
          "name": "#%%\n"
        },
        "id": "BC3-IG9dkGeW",
        "outputId": "3f828e2d-0f19-4447-c18f-5eccc726ff26",
        "colab": {
          "base_uri": "https://localhost:8080/",
          "height": 654,
          "referenced_widgets": [
            "f6f66394211a4ae39edcb49d86d4a9ba",
            "8c4083f3e99c443ea241c59368abca39",
            "21885b8854914438a390f8793c7d6ecf",
            "a0093bd5765940bebd551fa4a7b46f13",
            "71b2c78715be42c3a863e738134901be",
            "8ec639658f444137a19c50a07f93109a",
            "f97ab42366ae48498bdda55ad335541a",
            "d3b00d730c544f60af1e653925f3ff43",
            "fad8b1c259d4481eb34f1ff91ac69fc8",
            "f510ed2f118643e2a9600b69e53d958a",
            "7fc2116bf1334eb686d3c90a26d73a52",
            "508073067e724446b1e5a3f17df9afad",
            "d0926d16be2146fba40179eae64c5bd6",
            "824f5ba0706741df8e38e5e8ba24893f",
            "ccfa74c9d8434e8bb991064fbbb275fd",
            "e344f770934746b8b2a79cdbe1ff0c39",
            "d046ca5a2ee2482b85c4adfe7b04090c",
            "b78ade4e753c43d79098ac126317184b",
            "48e0a1d1480e4f6095bddddc7261fcfb",
            "3ae9ad9c9dd04e8eb989906b5f0770c9",
            "8dec58396772420db320371f4e29c557",
            "10af3269a42749b4a4b60da1fdc41454",
            "f293f11095094699922526557d27c561",
            "6bf997d9a5b84ae08c2f01c997bd72a1",
            "4b4dec58354248a4a1db22da6283a520"
          ]
        }
      },
      "source": [
        "#@title\n",
        "\n",
        "#@markdown Be sure to run this cell to enable the demo\n",
        "# Don't worry about understanding this code! It's to setup an interactive plot.\n",
        "single_neuron_idx = 283\n",
        "single_neuron_spikes = spike_times[single_neuron_idx]\n",
        "single_neuron_isis = np.diff(single_neuron_spikes)\n",
        "\n",
        "counts, edges = np.histogram(\n",
        "  single_neuron_isis,\n",
        "  bins=50,\n",
        "  range=(0, single_neuron_isis.max())\n",
        ")\n",
        "\n",
        "functions = dict(\n",
        "  exponential=exponential,\n",
        "  inverse=inverse,\n",
        "  linear=linear,\n",
        ")\n",
        "\n",
        "colors = dict(\n",
        "  exponential=\"C1\",\n",
        "  inverse=\"C2\",\n",
        "  linear=\"C4\",\n",
        ")\n",
        "\n",
        "@widgets.interact(\n",
        "  exp_scale=widgets.FloatSlider(1000, min=0, max=20000, step=250),\n",
        "  exp_rate=widgets.FloatSlider(-10, min=-200, max=50, step=1),\n",
        "  exp_x0=widgets.FloatSlider(0.1, min=-0.5, max=0.5, step=0.005),\n",
        "  inv_scale=widgets.FloatSlider(1000, min=0, max=3e2, step=10),\n",
        "  inv_x0=widgets.FloatSlider(0, min=-0.2, max=0.2, step=0.01),\n",
        "  lin_slope=widgets.FloatSlider(-1e5, min=-6e5, max=1e5, step=10000),\n",
        "  lin_y0=widgets.FloatSlider(10000, min=0, max=4e4, step=1000),\n",
        ")\n",
        "def fit_plot(\n",
        "  exp_scale=1000, exp_rate=-10, exp_x0=0.1,\n",
        "  inv_scale=1000, inv_x0=0,\n",
        "  lin_slope=-1e5, lin_y0=2000,\n",
        "):\n",
        "  \"\"\"Helper function for plotting function fits with interactive sliders.\"\"\"\n",
        "  func_params = dict(\n",
        "    exponential=(exp_scale, exp_rate, exp_x0),\n",
        "    inverse=(inv_scale, inv_x0),\n",
        "    linear=(lin_slope, lin_y0),\n",
        "  )\n",
        "  f, ax = plt.subplots()\n",
        "  ax.fill_between(edges[:-1], counts, step=\"post\", alpha=.5)\n",
        "  xs = np.linspace(1e-10, edges.max())\n",
        "  for name, function in functions.items():\n",
        "    ys = function(xs, *func_params[name])\n",
        "    ax.plot(xs, ys, lw=3, color=colors[name], label=name);\n",
        "  ax.set(\n",
        "      xlim=(edges.min(), edges.max()),\n",
        "      ylim=(0, counts.max() * 1.1),\n",
        "      xlabel=\"ISI (s)\",\n",
        "      ylabel=\"Number of spikes\",\n",
        "  )\n",
        "  ax.legend()"
      ],
      "execution_count": 55,
      "outputs": [
        {
          "output_type": "display_data",
          "data": {
            "application/vnd.jupyter.widget-view+json": {
              "model_id": "f6f66394211a4ae39edcb49d86d4a9ba",
              "version_minor": 0,
              "version_major": 2
            },
            "text/plain": [
              "interactive(children=(FloatSlider(value=1000.0, description='exp_scale', max=20000.0, step=250.0), FloatSlider…"
            ]
          },
          "metadata": {
            "tags": []
          }
        }
      ]
    },
    {
      "cell_type": "markdown",
      "metadata": {
        "execution": {
          "iopub.execute_input": "2021-07-03T17:54:23.881204Z",
          "iopub.status.busy": "2021-07-03T17:54:23.880570Z",
          "iopub.status.idle": "2021-07-03T17:54:23.884239Z",
          "shell.execute_reply": "2021-07-03T17:54:23.884689Z"
        },
        "id": "2TV0n-vZkGeX"
      },
      "source": [
        "[*Click for solution*](https://github.com/NeuromatchAcademy/course-content/tree/master//tutorials/W1D1_ModelTypes/solutions/W1D1_Tutorial1_Solution_b6cd7761.py)\n",
        "\n"
      ]
    },
    {
      "cell_type": "code",
      "metadata": {
        "cellView": "form",
        "execution": {
          "iopub.execute_input": "2021-07-03T17:54:23.896459Z",
          "iopub.status.busy": "2021-07-03T17:54:23.892167Z",
          "iopub.status.idle": "2021-07-03T17:54:23.957580Z",
          "shell.execute_reply": "2021-07-03T17:54:23.958179Z"
        },
        "id": "UHkhqwmzkGeX"
      },
      "source": [
        "# @title Video 5: Fitting models by hand\n",
        "from ipywidgets import widgets\n",
        "\n",
        "out2 = widgets.Output()\n",
        "with out2:\n",
        "  from IPython.display import IFrame\n",
        "  class BiliVideo(IFrame):\n",
        "      def __init__(self, id, page=1, width=400, height=300, **kwargs):\n",
        "          self.id=id\n",
        "          src = 'https://player.bilibili.com/player.html?bvid={0}&page={1}'.format(id, page)\n",
        "          super(BiliVideo, self).__init__(src, width, height, **kwargs)\n",
        "\n",
        "  video = BiliVideo(id=\"BV1w54y1S7Eb\", width=854, height=480, fs=1)\n",
        "  print('Video available at https://www.bilibili.com/video/{0}'.format(video.id))\n",
        "  display(video)\n",
        "\n",
        "out1 = widgets.Output()\n",
        "with out1:\n",
        "  from IPython.display import YouTubeVideo\n",
        "  video = YouTubeVideo(id=\"uW2HDk_4-wk\", width=854, height=480, fs=1, rel=0)\n",
        "  print('Video available at https://youtube.com/watch?v=' + video.id)\n",
        "  display(video)\n",
        "\n",
        "out = widgets.Tab([out1, out2])\n",
        "out.set_title(0, 'Youtube')\n",
        "out.set_title(1, 'Bilibili')\n",
        "\n",
        "display(out)"
      ],
      "execution_count": null,
      "outputs": []
    },
    {
      "cell_type": "markdown",
      "metadata": {
        "id": "3QTt9wvEkGeX"
      },
      "source": [
        "---\n",
        "# Section 5: Reflecting on what models\n",
        "\n",
        "*Estimated timing to here from start of tutorial: 40 min*"
      ]
    },
    {
      "cell_type": "markdown",
      "metadata": {
        "id": "whL7szI0kGeX"
      },
      "source": [
        "## Think! 5: Reflecting on what models\n",
        "\n",
        "Please discuss the following questions for around 10 minutes with your group:\n",
        "- Have you seen what models before?\n",
        "- Have you ever done one?\n",
        "- Why are what models useful?\n",
        "- When are they possible? Does your field have what models?\n",
        "- What do we learn from constructing them?"
      ]
    },
    {
      "cell_type": "markdown",
      "metadata": {
        "id": "7O7bgOz2kGeY"
      },
      "source": [
        "---\n",
        "# Summary\n",
        "\n",
        "*Estimated timing of tutorial: 50 minutes*\n",
        "\n",
        "In this tutorial, we loaded some neural data and poked at it to understand how the dataset is organized. Then we made some basic plots to visualize (1) the average level of activity across the population and (2) the distribution of ISIs for an individual neuron. In the very last bit, we started to think about using mathematical formalisms to understand or explain some physiological phenomenon. All of this only allowed us to understand \"What\" the data looks like.\n",
        "\n",
        "This is the first step towards developing models that can tell us something about the brain. That's what we'll focus on in the next two tutorials."
      ]
    }
  ]
}