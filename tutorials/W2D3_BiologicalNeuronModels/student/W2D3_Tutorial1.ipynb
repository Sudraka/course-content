{
  "nbformat": 4,
  "nbformat_minor": 0,
  "metadata": {
    "colab": {
      "name": "W2D3_Tutorial1",
      "provenance": [],
      "collapsed_sections": [],
      "toc_visible": true,
      "include_colab_link": true
    },
    "kernel": {
      "display_name": "Python 3",
      "language": "python",
      "name": "python3"
    },
    "kernelspec": {
      "display_name": "Python 3",
      "name": "python3"
    },
    "language_info": {
      "codemirror_mode": {
        "name": "ipython",
        "version": 3
      },
      "file_extension": ".py",
      "mimetype": "text/x-python",
      "name": "python",
      "nbconvert_exporter": "python",
      "pygments_lexer": "ipython3",
      "version": "3.7.10"
    },
    "widgets": {
      "application/vnd.jupyter.widget-state+json": {
        "9d7a041f07bd4465ae4f71cedc042dd2": {
          "model_module": "@jupyter-widgets/controls",
          "model_name": "VBoxModel",
          "state": {
            "_view_name": "VBoxView",
            "_dom_classes": [
              "widget-interact"
            ],
            "_model_name": "VBoxModel",
            "_view_module": "@jupyter-widgets/controls",
            "_model_module_version": "1.5.0",
            "_view_count": null,
            "_view_module_version": "1.5.0",
            "box_style": "",
            "layout": "IPY_MODEL_810e737706d64275ba289f75f83219b3",
            "_model_module": "@jupyter-widgets/controls",
            "children": [
              "IPY_MODEL_9036471c8aed4520b96987ac2db264bb",
              "IPY_MODEL_a315ec0899c64d79b181dd1d19731402",
              "IPY_MODEL_5b87d39f3ebb4807a65ca3a3bf6a274d"
            ]
          }
        },
        "810e737706d64275ba289f75f83219b3": {
          "model_module": "@jupyter-widgets/base",
          "model_name": "LayoutModel",
          "state": {
            "_view_name": "LayoutView",
            "grid_template_rows": null,
            "right": null,
            "justify_content": null,
            "_view_module": "@jupyter-widgets/base",
            "overflow": null,
            "_model_module_version": "1.2.0",
            "_view_count": null,
            "flex_flow": null,
            "width": null,
            "min_width": null,
            "border": null,
            "align_items": null,
            "bottom": null,
            "_model_module": "@jupyter-widgets/base",
            "top": null,
            "grid_column": null,
            "overflow_y": null,
            "overflow_x": null,
            "grid_auto_flow": null,
            "grid_area": null,
            "grid_template_columns": null,
            "flex": null,
            "_model_name": "LayoutModel",
            "justify_items": null,
            "grid_row": null,
            "max_height": null,
            "align_content": null,
            "visibility": null,
            "align_self": null,
            "height": null,
            "min_height": null,
            "padding": null,
            "grid_auto_rows": null,
            "grid_gap": null,
            "max_width": null,
            "order": null,
            "_view_module_version": "1.2.0",
            "grid_template_areas": null,
            "object_position": null,
            "object_fit": null,
            "grid_auto_columns": null,
            "margin": null,
            "display": null,
            "left": null
          }
        },
        "9036471c8aed4520b96987ac2db264bb": {
          "model_module": "@jupyter-widgets/controls",
          "model_name": "FloatSliderModel",
          "state": {
            "_view_name": "FloatSliderView",
            "style": "IPY_MODEL_4e85ed010fca44b3a0d8a7757335b60e",
            "_dom_classes": [],
            "description": "I_dc",
            "step": 10,
            "_model_name": "FloatSliderModel",
            "orientation": "horizontal",
            "max": 300,
            "_view_module": "@jupyter-widgets/controls",
            "_model_module_version": "1.5.0",
            "value": 280,
            "_view_count": null,
            "disabled": false,
            "_view_module_version": "1.5.0",
            "min": 0,
            "continuous_update": true,
            "readout_format": ".2f",
            "description_tooltip": null,
            "readout": true,
            "_model_module": "@jupyter-widgets/controls",
            "layout": "IPY_MODEL_bf2cb96ec3b142c8a42400d251914c6f"
          }
        },
        "a315ec0899c64d79b181dd1d19731402": {
          "model_module": "@jupyter-widgets/controls",
          "model_name": "FloatSliderModel",
          "state": {
            "_view_name": "FloatSliderView",
            "style": "IPY_MODEL_b2a448331d4742e9a9f9a1e1fd4e8df8",
            "_dom_classes": [],
            "description": "tau_m",
            "step": 2,
            "_model_name": "FloatSliderModel",
            "orientation": "horizontal",
            "max": 20,
            "_view_module": "@jupyter-widgets/controls",
            "_model_module_version": "1.5.0",
            "value": 18,
            "_view_count": null,
            "disabled": false,
            "_view_module_version": "1.5.0",
            "min": 2,
            "continuous_update": true,
            "readout_format": ".2f",
            "description_tooltip": null,
            "readout": true,
            "_model_module": "@jupyter-widgets/controls",
            "layout": "IPY_MODEL_bf2cb96ec3b142c8a42400d251914c6f"
          }
        },
        "5b87d39f3ebb4807a65ca3a3bf6a274d": {
          "model_module": "@jupyter-widgets/output",
          "model_name": "OutputModel",
          "state": {
            "_view_name": "OutputView",
            "msg_id": "",
            "_dom_classes": [],
            "_model_name": "OutputModel",
            "outputs": [
              {
                "output_type": "display_data",
                "metadata": {
                  "tags": [],
                  "image/png": {
                    "width": 552,
                    "height": 414
                  },
                  "needs_background": "light"
                },
                "image/png": "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\n",
                "text/plain": "<Figure size 576x432 with 1 Axes>"
              }
            ],
            "_view_module": "@jupyter-widgets/output",
            "_model_module_version": "1.0.0",
            "_view_count": null,
            "_view_module_version": "1.0.0",
            "layout": "IPY_MODEL_9510ec079cb9477f97b2dca694b1c1d4",
            "_model_module": "@jupyter-widgets/output"
          }
        },
        "4e85ed010fca44b3a0d8a7757335b60e": {
          "model_module": "@jupyter-widgets/controls",
          "model_name": "SliderStyleModel",
          "state": {
            "_view_name": "StyleView",
            "handle_color": null,
            "_model_name": "SliderStyleModel",
            "description_width": "",
            "_view_module": "@jupyter-widgets/base",
            "_model_module_version": "1.5.0",
            "_view_count": null,
            "_view_module_version": "1.2.0",
            "_model_module": "@jupyter-widgets/controls"
          }
        },
        "bf2cb96ec3b142c8a42400d251914c6f": {
          "model_module": "@jupyter-widgets/base",
          "model_name": "LayoutModel",
          "state": {
            "_view_name": "LayoutView",
            "grid_template_rows": null,
            "right": null,
            "justify_content": null,
            "_view_module": "@jupyter-widgets/base",
            "overflow": null,
            "_model_module_version": "1.2.0",
            "_view_count": null,
            "flex_flow": null,
            "width": "450px",
            "min_width": null,
            "border": null,
            "align_items": null,
            "bottom": null,
            "_model_module": "@jupyter-widgets/base",
            "top": null,
            "grid_column": null,
            "overflow_y": null,
            "overflow_x": null,
            "grid_auto_flow": null,
            "grid_area": null,
            "grid_template_columns": null,
            "flex": null,
            "_model_name": "LayoutModel",
            "justify_items": null,
            "grid_row": null,
            "max_height": null,
            "align_content": null,
            "visibility": null,
            "align_self": null,
            "height": null,
            "min_height": null,
            "padding": null,
            "grid_auto_rows": null,
            "grid_gap": null,
            "max_width": null,
            "order": null,
            "_view_module_version": "1.2.0",
            "grid_template_areas": null,
            "object_position": null,
            "object_fit": null,
            "grid_auto_columns": null,
            "margin": null,
            "display": null,
            "left": null
          }
        },
        "b2a448331d4742e9a9f9a1e1fd4e8df8": {
          "model_module": "@jupyter-widgets/controls",
          "model_name": "SliderStyleModel",
          "state": {
            "_view_name": "StyleView",
            "handle_color": null,
            "_model_name": "SliderStyleModel",
            "description_width": "",
            "_view_module": "@jupyter-widgets/base",
            "_model_module_version": "1.5.0",
            "_view_count": null,
            "_view_module_version": "1.2.0",
            "_model_module": "@jupyter-widgets/controls"
          }
        },
        "9510ec079cb9477f97b2dca694b1c1d4": {
          "model_module": "@jupyter-widgets/base",
          "model_name": "LayoutModel",
          "state": {
            "_view_name": "LayoutView",
            "grid_template_rows": null,
            "right": null,
            "justify_content": null,
            "_view_module": "@jupyter-widgets/base",
            "overflow": null,
            "_model_module_version": "1.2.0",
            "_view_count": null,
            "flex_flow": null,
            "width": null,
            "min_width": null,
            "border": null,
            "align_items": null,
            "bottom": null,
            "_model_module": "@jupyter-widgets/base",
            "top": null,
            "grid_column": null,
            "overflow_y": null,
            "overflow_x": null,
            "grid_auto_flow": null,
            "grid_area": null,
            "grid_template_columns": null,
            "flex": null,
            "_model_name": "LayoutModel",
            "justify_items": null,
            "grid_row": null,
            "max_height": null,
            "align_content": null,
            "visibility": null,
            "align_self": null,
            "height": null,
            "min_height": null,
            "padding": null,
            "grid_auto_rows": null,
            "grid_gap": null,
            "max_width": null,
            "order": null,
            "_view_module_version": "1.2.0",
            "grid_template_areas": null,
            "object_position": null,
            "object_fit": null,
            "grid_auto_columns": null,
            "margin": null,
            "display": null,
            "left": null
          }
        },
        "7bb7bba3f0bf4a54bb7ddcc8c9a52089": {
          "model_module": "@jupyter-widgets/controls",
          "model_name": "VBoxModel",
          "state": {
            "_view_name": "VBoxView",
            "_dom_classes": [
              "widget-interact"
            ],
            "_model_name": "VBoxModel",
            "_view_module": "@jupyter-widgets/controls",
            "_model_module_version": "1.5.0",
            "_view_count": null,
            "_view_module_version": "1.5.0",
            "box_style": "",
            "layout": "IPY_MODEL_3037a2d9b9694df9a8fd20e3f1e25a5e",
            "_model_module": "@jupyter-widgets/controls",
            "children": [
              "IPY_MODEL_e701fe34873d4c87bac67e4e6045e8f4",
              "IPY_MODEL_5f78ef0661804d3c945c268ad4ad01e1",
              "IPY_MODEL_fd62a61cba104826aa4f068d4c4bade9"
            ]
          }
        },
        "3037a2d9b9694df9a8fd20e3f1e25a5e": {
          "model_module": "@jupyter-widgets/base",
          "model_name": "LayoutModel",
          "state": {
            "_view_name": "LayoutView",
            "grid_template_rows": null,
            "right": null,
            "justify_content": null,
            "_view_module": "@jupyter-widgets/base",
            "overflow": null,
            "_model_module_version": "1.2.0",
            "_view_count": null,
            "flex_flow": null,
            "width": null,
            "min_width": null,
            "border": null,
            "align_items": null,
            "bottom": null,
            "_model_module": "@jupyter-widgets/base",
            "top": null,
            "grid_column": null,
            "overflow_y": null,
            "overflow_x": null,
            "grid_auto_flow": null,
            "grid_area": null,
            "grid_template_columns": null,
            "flex": null,
            "_model_name": "LayoutModel",
            "justify_items": null,
            "grid_row": null,
            "max_height": null,
            "align_content": null,
            "visibility": null,
            "align_self": null,
            "height": null,
            "min_height": null,
            "padding": null,
            "grid_auto_rows": null,
            "grid_gap": null,
            "max_width": null,
            "order": null,
            "_view_module_version": "1.2.0",
            "grid_template_areas": null,
            "object_position": null,
            "object_fit": null,
            "grid_auto_columns": null,
            "margin": null,
            "display": null,
            "left": null
          }
        },
        "e701fe34873d4c87bac67e4e6045e8f4": {
          "model_module": "@jupyter-widgets/controls",
          "model_name": "FloatSliderModel",
          "state": {
            "_view_name": "FloatSliderView",
            "style": "IPY_MODEL_9bc29dd03ee542d3bc3c4f65271e433d",
            "_dom_classes": [],
            "description": "mu_gwn",
            "step": 5,
            "_model_name": "FloatSliderModel",
            "orientation": "horizontal",
            "max": 300,
            "_view_module": "@jupyter-widgets/controls",
            "_model_module_version": "1.5.0",
            "value": 185,
            "_view_count": null,
            "disabled": false,
            "_view_module_version": "1.5.0",
            "min": 100,
            "continuous_update": true,
            "readout_format": ".2f",
            "description_tooltip": null,
            "readout": true,
            "_model_module": "@jupyter-widgets/controls",
            "layout": "IPY_MODEL_bf2cb96ec3b142c8a42400d251914c6f"
          }
        },
        "5f78ef0661804d3c945c268ad4ad01e1": {
          "model_module": "@jupyter-widgets/controls",
          "model_name": "FloatSliderModel",
          "state": {
            "_view_name": "FloatSliderView",
            "style": "IPY_MODEL_04dbeb9cdea64cab9cad18919c159bab",
            "_dom_classes": [],
            "description": "sig_gwn",
            "step": 0.5,
            "_model_name": "FloatSliderModel",
            "orientation": "horizontal",
            "max": 5,
            "_view_module": "@jupyter-widgets/controls",
            "_model_module_version": "1.5.0",
            "value": 2.5,
            "_view_count": null,
            "disabled": false,
            "_view_module_version": "1.5.0",
            "min": 0,
            "continuous_update": true,
            "readout_format": ".2f",
            "description_tooltip": null,
            "readout": true,
            "_model_module": "@jupyter-widgets/controls",
            "layout": "IPY_MODEL_bf2cb96ec3b142c8a42400d251914c6f"
          }
        },
        "fd62a61cba104826aa4f068d4c4bade9": {
          "model_module": "@jupyter-widgets/output",
          "model_name": "OutputModel",
          "state": {
            "_view_name": "OutputView",
            "msg_id": "",
            "_dom_classes": [],
            "_model_name": "OutputModel",
            "outputs": [
              {
                "output_type": "display_data",
                "metadata": {
                  "tags": [],
                  "image/png": {
                    "width": 846,
                    "height": 270
                  },
                  "needs_background": "light"
                },
                "image/png": "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\n",
                "text/plain": "<Figure size 864x288 with 2 Axes>"
              }
            ],
            "_view_module": "@jupyter-widgets/output",
            "_model_module_version": "1.0.0",
            "_view_count": null,
            "_view_module_version": "1.0.0",
            "layout": "IPY_MODEL_02125e83a9324f37b4cbc87e06a73bb9",
            "_model_module": "@jupyter-widgets/output"
          }
        },
        "9bc29dd03ee542d3bc3c4f65271e433d": {
          "model_module": "@jupyter-widgets/controls",
          "model_name": "SliderStyleModel",
          "state": {
            "_view_name": "StyleView",
            "handle_color": null,
            "_model_name": "SliderStyleModel",
            "description_width": "",
            "_view_module": "@jupyter-widgets/base",
            "_model_module_version": "1.5.0",
            "_view_count": null,
            "_view_module_version": "1.2.0",
            "_model_module": "@jupyter-widgets/controls"
          }
        },
        "04dbeb9cdea64cab9cad18919c159bab": {
          "model_module": "@jupyter-widgets/controls",
          "model_name": "SliderStyleModel",
          "state": {
            "_view_name": "StyleView",
            "handle_color": null,
            "_model_name": "SliderStyleModel",
            "description_width": "",
            "_view_module": "@jupyter-widgets/base",
            "_model_module_version": "1.5.0",
            "_view_count": null,
            "_view_module_version": "1.2.0",
            "_model_module": "@jupyter-widgets/controls"
          }
        },
        "02125e83a9324f37b4cbc87e06a73bb9": {
          "model_module": "@jupyter-widgets/base",
          "model_name": "LayoutModel",
          "state": {
            "_view_name": "LayoutView",
            "grid_template_rows": null,
            "right": null,
            "justify_content": null,
            "_view_module": "@jupyter-widgets/base",
            "overflow": null,
            "_model_module_version": "1.2.0",
            "_view_count": null,
            "flex_flow": null,
            "width": null,
            "min_width": null,
            "border": null,
            "align_items": null,
            "bottom": null,
            "_model_module": "@jupyter-widgets/base",
            "top": null,
            "grid_column": null,
            "overflow_y": null,
            "overflow_x": null,
            "grid_auto_flow": null,
            "grid_area": null,
            "grid_template_columns": null,
            "flex": null,
            "_model_name": "LayoutModel",
            "justify_items": null,
            "grid_row": null,
            "max_height": null,
            "align_content": null,
            "visibility": null,
            "align_self": null,
            "height": null,
            "min_height": null,
            "padding": null,
            "grid_auto_rows": null,
            "grid_gap": null,
            "max_width": null,
            "order": null,
            "_view_module_version": "1.2.0",
            "grid_template_areas": null,
            "object_position": null,
            "object_fit": null,
            "grid_auto_columns": null,
            "margin": null,
            "display": null,
            "left": null
          }
        },
        "7e7f35e289d947e28c69480a6afa1674": {
          "model_module": "@jupyter-widgets/controls",
          "model_name": "VBoxModel",
          "state": {
            "_view_name": "VBoxView",
            "_dom_classes": [
              "widget-interact"
            ],
            "_model_name": "VBoxModel",
            "_view_module": "@jupyter-widgets/controls",
            "_model_module_version": "1.5.0",
            "_view_count": null,
            "_view_module_version": "1.5.0",
            "box_style": "",
            "layout": "IPY_MODEL_b9162574911946dab6ed255ed5a38a5b",
            "_model_module": "@jupyter-widgets/controls",
            "children": [
              "IPY_MODEL_41e77400436c4281bfc37c0be3b58997",
              "IPY_MODEL_9ae2b6e1b9d34194bd8c3bc14eaf02af"
            ]
          }
        },
        "b9162574911946dab6ed255ed5a38a5b": {
          "model_module": "@jupyter-widgets/base",
          "model_name": "LayoutModel",
          "state": {
            "_view_name": "LayoutView",
            "grid_template_rows": null,
            "right": null,
            "justify_content": null,
            "_view_module": "@jupyter-widgets/base",
            "overflow": null,
            "_model_module_version": "1.2.0",
            "_view_count": null,
            "flex_flow": null,
            "width": null,
            "min_width": null,
            "border": null,
            "align_items": null,
            "bottom": null,
            "_model_module": "@jupyter-widgets/base",
            "top": null,
            "grid_column": null,
            "overflow_y": null,
            "overflow_x": null,
            "grid_auto_flow": null,
            "grid_area": null,
            "grid_template_columns": null,
            "flex": null,
            "_model_name": "LayoutModel",
            "justify_items": null,
            "grid_row": null,
            "max_height": null,
            "align_content": null,
            "visibility": null,
            "align_self": null,
            "height": null,
            "min_height": null,
            "padding": null,
            "grid_auto_rows": null,
            "grid_gap": null,
            "max_width": null,
            "order": null,
            "_view_module_version": "1.2.0",
            "grid_template_areas": null,
            "object_position": null,
            "object_fit": null,
            "grid_auto_columns": null,
            "margin": null,
            "display": null,
            "left": null
          }
        },
        "41e77400436c4281bfc37c0be3b58997": {
          "model_module": "@jupyter-widgets/controls",
          "model_name": "FloatSliderModel",
          "state": {
            "_view_name": "FloatSliderView",
            "style": "IPY_MODEL_2459983c33f646bcb1348d16e5ed1264",
            "_dom_classes": [],
            "description": "sig_gwn",
            "step": 0.5,
            "_model_name": "FloatSliderModel",
            "orientation": "horizontal",
            "max": 6,
            "_view_module": "@jupyter-widgets/controls",
            "_model_module_version": "1.5.0",
            "value": 5.5,
            "_view_count": null,
            "disabled": false,
            "_view_module_version": "1.5.0",
            "min": 0,
            "continuous_update": true,
            "readout_format": ".2f",
            "description_tooltip": null,
            "readout": true,
            "_model_module": "@jupyter-widgets/controls",
            "layout": "IPY_MODEL_bf2cb96ec3b142c8a42400d251914c6f"
          }
        },
        "9ae2b6e1b9d34194bd8c3bc14eaf02af": {
          "model_module": "@jupyter-widgets/output",
          "model_name": "OutputModel",
          "state": {
            "_view_name": "OutputView",
            "msg_id": "",
            "_dom_classes": [],
            "_model_name": "OutputModel",
            "outputs": [
              {
                "output_type": "display_data",
                "metadata": {
                  "tags": [],
                  "image/png": {
                    "width": 557,
                    "height": 414
                  },
                  "needs_background": "light"
                },
                "image/png": "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\n",
                "text/plain": "<Figure size 576x432 with 1 Axes>"
              }
            ],
            "_view_module": "@jupyter-widgets/output",
            "_model_module_version": "1.0.0",
            "_view_count": null,
            "_view_module_version": "1.0.0",
            "layout": "IPY_MODEL_b45cb756a2d94b568397f1bc825ac256",
            "_model_module": "@jupyter-widgets/output"
          }
        },
        "2459983c33f646bcb1348d16e5ed1264": {
          "model_module": "@jupyter-widgets/controls",
          "model_name": "SliderStyleModel",
          "state": {
            "_view_name": "StyleView",
            "handle_color": null,
            "_model_name": "SliderStyleModel",
            "description_width": "",
            "_view_module": "@jupyter-widgets/base",
            "_model_module_version": "1.5.0",
            "_view_count": null,
            "_view_module_version": "1.2.0",
            "_model_module": "@jupyter-widgets/controls"
          }
        },
        "b45cb756a2d94b568397f1bc825ac256": {
          "model_module": "@jupyter-widgets/base",
          "model_name": "LayoutModel",
          "state": {
            "_view_name": "LayoutView",
            "grid_template_rows": null,
            "right": null,
            "justify_content": null,
            "_view_module": "@jupyter-widgets/base",
            "overflow": null,
            "_model_module_version": "1.2.0",
            "_view_count": null,
            "flex_flow": null,
            "width": null,
            "min_width": null,
            "border": null,
            "align_items": null,
            "bottom": null,
            "_model_module": "@jupyter-widgets/base",
            "top": null,
            "grid_column": null,
            "overflow_y": null,
            "overflow_x": null,
            "grid_auto_flow": null,
            "grid_area": null,
            "grid_template_columns": null,
            "flex": null,
            "_model_name": "LayoutModel",
            "justify_items": null,
            "grid_row": null,
            "max_height": null,
            "align_content": null,
            "visibility": null,
            "align_self": null,
            "height": null,
            "min_height": null,
            "padding": null,
            "grid_auto_rows": null,
            "grid_gap": null,
            "max_width": null,
            "order": null,
            "_view_module_version": "1.2.0",
            "grid_template_areas": null,
            "object_position": null,
            "object_fit": null,
            "grid_auto_columns": null,
            "margin": null,
            "display": null,
            "left": null
          }
        },
        "2a4cc3b32ffa493d837f3bff52267bf2": {
          "model_module": "@jupyter-widgets/controls",
          "model_name": "VBoxModel",
          "state": {
            "_view_name": "VBoxView",
            "_dom_classes": [
              "widget-interact"
            ],
            "_model_name": "VBoxModel",
            "_view_module": "@jupyter-widgets/controls",
            "_model_module_version": "1.5.0",
            "_view_count": null,
            "_view_module_version": "1.5.0",
            "box_style": "",
            "layout": "IPY_MODEL_6bec7759aadf444f8cc679df06fe88e4",
            "_model_module": "@jupyter-widgets/controls",
            "children": [
              "IPY_MODEL_93b0d153efbe4a2996ab6fe398980063",
              "IPY_MODEL_5391ae47f9f046478be3be6576df188b"
            ]
          }
        },
        "6bec7759aadf444f8cc679df06fe88e4": {
          "model_module": "@jupyter-widgets/base",
          "model_name": "LayoutModel",
          "state": {
            "_view_name": "LayoutView",
            "grid_template_rows": null,
            "right": null,
            "justify_content": null,
            "_view_module": "@jupyter-widgets/base",
            "overflow": null,
            "_model_module_version": "1.2.0",
            "_view_count": null,
            "flex_flow": null,
            "width": null,
            "min_width": null,
            "border": null,
            "align_items": null,
            "bottom": null,
            "_model_module": "@jupyter-widgets/base",
            "top": null,
            "grid_column": null,
            "overflow_y": null,
            "overflow_x": null,
            "grid_auto_flow": null,
            "grid_area": null,
            "grid_template_columns": null,
            "flex": null,
            "_model_name": "LayoutModel",
            "justify_items": null,
            "grid_row": null,
            "max_height": null,
            "align_content": null,
            "visibility": null,
            "align_self": null,
            "height": null,
            "min_height": null,
            "padding": null,
            "grid_auto_rows": null,
            "grid_gap": null,
            "max_width": null,
            "order": null,
            "_view_module_version": "1.2.0",
            "grid_template_areas": null,
            "object_position": null,
            "object_fit": null,
            "grid_auto_columns": null,
            "margin": null,
            "display": null,
            "left": null
          }
        },
        "93b0d153efbe4a2996ab6fe398980063": {
          "model_module": "@jupyter-widgets/controls",
          "model_name": "FloatSliderModel",
          "state": {
            "_view_name": "FloatSliderView",
            "style": "IPY_MODEL_ac96b1a0b6504c6b8db56dbb16735304",
            "_dom_classes": [],
            "description": "sig_gwn",
            "step": 0.5,
            "_model_name": "FloatSliderModel",
            "orientation": "horizontal",
            "max": 10,
            "_view_module": "@jupyter-widgets/controls",
            "_model_module_version": "1.5.0",
            "value": 6.5,
            "_view_count": null,
            "disabled": false,
            "_view_module_version": "1.5.0",
            "min": 0,
            "continuous_update": true,
            "readout_format": ".2f",
            "description_tooltip": null,
            "readout": true,
            "_model_module": "@jupyter-widgets/controls",
            "layout": "IPY_MODEL_bf2cb96ec3b142c8a42400d251914c6f"
          }
        },
        "5391ae47f9f046478be3be6576df188b": {
          "model_module": "@jupyter-widgets/output",
          "model_name": "OutputModel",
          "state": {
            "_view_name": "OutputView",
            "msg_id": "",
            "_dom_classes": [],
            "_model_name": "OutputModel",
            "outputs": [
              {
                "output_type": "display_data",
                "metadata": {
                  "tags": [],
                  "image/png": {
                    "width": 558,
                    "height": 413
                  },
                  "needs_background": "light"
                },
                "image/png": "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\n",
                "text/plain": "<Figure size 576x432 with 1 Axes>"
              }
            ],
            "_view_module": "@jupyter-widgets/output",
            "_model_module_version": "1.0.0",
            "_view_count": null,
            "_view_module_version": "1.0.0",
            "layout": "IPY_MODEL_2d82aa5b06284dc2b038e4463e575a48",
            "_model_module": "@jupyter-widgets/output"
          }
        },
        "ac96b1a0b6504c6b8db56dbb16735304": {
          "model_module": "@jupyter-widgets/controls",
          "model_name": "SliderStyleModel",
          "state": {
            "_view_name": "StyleView",
            "handle_color": null,
            "_model_name": "SliderStyleModel",
            "description_width": "",
            "_view_module": "@jupyter-widgets/base",
            "_model_module_version": "1.5.0",
            "_view_count": null,
            "_view_module_version": "1.2.0",
            "_model_module": "@jupyter-widgets/controls"
          }
        },
        "2d82aa5b06284dc2b038e4463e575a48": {
          "model_module": "@jupyter-widgets/base",
          "model_name": "LayoutModel",
          "state": {
            "_view_name": "LayoutView",
            "grid_template_rows": null,
            "right": null,
            "justify_content": null,
            "_view_module": "@jupyter-widgets/base",
            "overflow": null,
            "_model_module_version": "1.2.0",
            "_view_count": null,
            "flex_flow": null,
            "width": null,
            "min_width": null,
            "border": null,
            "align_items": null,
            "bottom": null,
            "_model_module": "@jupyter-widgets/base",
            "top": null,
            "grid_column": null,
            "overflow_y": null,
            "overflow_x": null,
            "grid_auto_flow": null,
            "grid_area": null,
            "grid_template_columns": null,
            "flex": null,
            "_model_name": "LayoutModel",
            "justify_items": null,
            "grid_row": null,
            "max_height": null,
            "align_content": null,
            "visibility": null,
            "align_self": null,
            "height": null,
            "min_height": null,
            "padding": null,
            "grid_auto_rows": null,
            "grid_gap": null,
            "max_width": null,
            "order": null,
            "_view_module_version": "1.2.0",
            "grid_template_areas": null,
            "object_position": null,
            "object_fit": null,
            "grid_auto_columns": null,
            "margin": null,
            "display": null,
            "left": null
          }
        },
        "2e6044cde75542ba8f6599cf2f33495d": {
          "model_module": "@jupyter-widgets/controls",
          "model_name": "VBoxModel",
          "state": {
            "_view_name": "VBoxView",
            "_dom_classes": [
              "widget-interact"
            ],
            "_model_name": "VBoxModel",
            "_view_module": "@jupyter-widgets/controls",
            "_model_module_version": "1.5.0",
            "_view_count": null,
            "_view_module_version": "1.5.0",
            "box_style": "",
            "layout": "IPY_MODEL_cfec26054c7f40e6b607d561b2e61f5a",
            "_model_module": "@jupyter-widgets/controls",
            "children": [
              "IPY_MODEL_29354a4bfd874601b483147801e1153b",
              "IPY_MODEL_a0dcc8338cd345e4aa69635f92504cad",
              "IPY_MODEL_af46b9a7291c4192a70cd3db787c435d",
              "IPY_MODEL_b5fc39d5c20f44c59ee020e1504208ef"
            ]
          }
        },
        "cfec26054c7f40e6b607d561b2e61f5a": {
          "model_module": "@jupyter-widgets/base",
          "model_name": "LayoutModel",
          "state": {
            "_view_name": "LayoutView",
            "grid_template_rows": null,
            "right": null,
            "justify_content": null,
            "_view_module": "@jupyter-widgets/base",
            "overflow": null,
            "_model_module_version": "1.2.0",
            "_view_count": null,
            "flex_flow": null,
            "width": null,
            "min_width": null,
            "border": null,
            "align_items": null,
            "bottom": null,
            "_model_module": "@jupyter-widgets/base",
            "top": null,
            "grid_column": null,
            "overflow_y": null,
            "overflow_x": null,
            "grid_auto_flow": null,
            "grid_area": null,
            "grid_template_columns": null,
            "flex": null,
            "_model_name": "LayoutModel",
            "justify_items": null,
            "grid_row": null,
            "max_height": null,
            "align_content": null,
            "visibility": null,
            "align_self": null,
            "height": null,
            "min_height": null,
            "padding": null,
            "grid_auto_rows": null,
            "grid_gap": null,
            "max_width": null,
            "order": null,
            "_view_module_version": "1.2.0",
            "grid_template_areas": null,
            "object_position": null,
            "object_fit": null,
            "grid_auto_columns": null,
            "margin": null,
            "display": null,
            "left": null
          }
        },
        "29354a4bfd874601b483147801e1153b": {
          "model_module": "@jupyter-widgets/controls",
          "model_name": "FloatSliderModel",
          "state": {
            "_view_name": "FloatSliderView",
            "style": "IPY_MODEL_d9a881bd49024c7ba8a324dfcd30b937",
            "_dom_classes": [],
            "description": "tau_ou",
            "step": 2.5,
            "_model_name": "FloatSliderModel",
            "orientation": "horizontal",
            "max": 20,
            "_view_module": "@jupyter-widgets/controls",
            "_model_module_version": "1.5.0",
            "value": 10,
            "_view_count": null,
            "disabled": false,
            "_view_module_version": "1.5.0",
            "min": 5,
            "continuous_update": true,
            "readout_format": ".2f",
            "description_tooltip": null,
            "readout": true,
            "_model_module": "@jupyter-widgets/controls",
            "layout": "IPY_MODEL_bf2cb96ec3b142c8a42400d251914c6f"
          }
        },
        "a0dcc8338cd345e4aa69635f92504cad": {
          "model_module": "@jupyter-widgets/controls",
          "model_name": "FloatSliderModel",
          "state": {
            "_view_name": "FloatSliderView",
            "style": "IPY_MODEL_09329af0dd5f45a8a2dceddb6762ed3a",
            "_dom_classes": [],
            "description": "sig_ou",
            "step": 2.5,
            "_model_name": "FloatSliderModel",
            "orientation": "horizontal",
            "max": 40,
            "_view_module": "@jupyter-widgets/controls",
            "_model_module_version": "1.5.0",
            "value": 10,
            "_view_count": null,
            "disabled": false,
            "_view_module_version": "1.5.0",
            "min": 5,
            "continuous_update": true,
            "readout_format": ".2f",
            "description_tooltip": null,
            "readout": true,
            "_model_module": "@jupyter-widgets/controls",
            "layout": "IPY_MODEL_bf2cb96ec3b142c8a42400d251914c6f"
          }
        },
        "af46b9a7291c4192a70cd3db787c435d": {
          "model_module": "@jupyter-widgets/controls",
          "model_name": "FloatSliderModel",
          "state": {
            "_view_name": "FloatSliderView",
            "style": "IPY_MODEL_6425960cb0dd4402a5dcae8428b70a63",
            "_dom_classes": [],
            "description": "mu_ou",
            "step": 2.5,
            "_model_name": "FloatSliderModel",
            "orientation": "horizontal",
            "max": 220,
            "_view_module": "@jupyter-widgets/controls",
            "_model_module_version": "1.5.0",
            "value": 190,
            "_view_count": null,
            "disabled": false,
            "_view_module_version": "1.5.0",
            "min": 180,
            "continuous_update": true,
            "readout_format": ".2f",
            "description_tooltip": null,
            "readout": true,
            "_model_module": "@jupyter-widgets/controls",
            "layout": "IPY_MODEL_bf2cb96ec3b142c8a42400d251914c6f"
          }
        },
        "b5fc39d5c20f44c59ee020e1504208ef": {
          "model_module": "@jupyter-widgets/output",
          "model_name": "OutputModel",
          "state": {
            "_view_name": "OutputView",
            "msg_id": "",
            "_dom_classes": [],
            "_model_name": "OutputModel",
            "outputs": [
              {
                "output_type": "display_data",
                "metadata": {
                  "tags": [],
                  "image/png": {
                    "width": 846,
                    "height": 270
                  },
                  "needs_background": "light"
                },
                "image/png": "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\n",
                "text/plain": "<Figure size 864x288 with 2 Axes>"
              }
            ],
            "_view_module": "@jupyter-widgets/output",
            "_model_module_version": "1.0.0",
            "_view_count": null,
            "_view_module_version": "1.0.0",
            "layout": "IPY_MODEL_ddc0a6b960fd4935bf4219286e210686",
            "_model_module": "@jupyter-widgets/output"
          }
        },
        "d9a881bd49024c7ba8a324dfcd30b937": {
          "model_module": "@jupyter-widgets/controls",
          "model_name": "SliderStyleModel",
          "state": {
            "_view_name": "StyleView",
            "handle_color": null,
            "_model_name": "SliderStyleModel",
            "description_width": "",
            "_view_module": "@jupyter-widgets/base",
            "_model_module_version": "1.5.0",
            "_view_count": null,
            "_view_module_version": "1.2.0",
            "_model_module": "@jupyter-widgets/controls"
          }
        },
        "09329af0dd5f45a8a2dceddb6762ed3a": {
          "model_module": "@jupyter-widgets/controls",
          "model_name": "SliderStyleModel",
          "state": {
            "_view_name": "StyleView",
            "handle_color": null,
            "_model_name": "SliderStyleModel",
            "description_width": "",
            "_view_module": "@jupyter-widgets/base",
            "_model_module_version": "1.5.0",
            "_view_count": null,
            "_view_module_version": "1.2.0",
            "_model_module": "@jupyter-widgets/controls"
          }
        },
        "6425960cb0dd4402a5dcae8428b70a63": {
          "model_module": "@jupyter-widgets/controls",
          "model_name": "SliderStyleModel",
          "state": {
            "_view_name": "StyleView",
            "handle_color": null,
            "_model_name": "SliderStyleModel",
            "description_width": "",
            "_view_module": "@jupyter-widgets/base",
            "_model_module_version": "1.5.0",
            "_view_count": null,
            "_view_module_version": "1.2.0",
            "_model_module": "@jupyter-widgets/controls"
          }
        },
        "ddc0a6b960fd4935bf4219286e210686": {
          "model_module": "@jupyter-widgets/base",
          "model_name": "LayoutModel",
          "state": {
            "_view_name": "LayoutView",
            "grid_template_rows": null,
            "right": null,
            "justify_content": null,
            "_view_module": "@jupyter-widgets/base",
            "overflow": null,
            "_model_module_version": "1.2.0",
            "_view_count": null,
            "flex_flow": null,
            "width": null,
            "min_width": null,
            "border": null,
            "align_items": null,
            "bottom": null,
            "_model_module": "@jupyter-widgets/base",
            "top": null,
            "grid_column": null,
            "overflow_y": null,
            "overflow_x": null,
            "grid_auto_flow": null,
            "grid_area": null,
            "grid_template_columns": null,
            "flex": null,
            "_model_name": "LayoutModel",
            "justify_items": null,
            "grid_row": null,
            "max_height": null,
            "align_content": null,
            "visibility": null,
            "align_self": null,
            "height": null,
            "min_height": null,
            "padding": null,
            "grid_auto_rows": null,
            "grid_gap": null,
            "max_width": null,
            "order": null,
            "_view_module_version": "1.2.0",
            "grid_template_areas": null,
            "object_position": null,
            "object_fit": null,
            "grid_auto_columns": null,
            "margin": null,
            "display": null,
            "left": null
          }
        }
      }
    }
  },
  "cells": [
    {
      "cell_type": "markdown",
      "metadata": {
        "id": "view-in-github",
        "colab_type": "text"
      },
      "source": [
        "<a href=\"https://colab.research.google.com/github/sudraka/course-content/blob/master/tutorials/W2D3_BiologicalNeuronModels/student/W2D3_Tutorial1.ipynb\" target=\"_parent\"><img src=\"https://colab.research.google.com/assets/colab-badge.svg\" alt=\"Open In Colab\"/></a>"
      ]
    },
    {
      "cell_type": "markdown",
      "metadata": {
        "execution": {},
        "id": "RfDpbIac9F0V"
      },
      "source": [
        "# Tutorial 1: The Leaky Integrate-and-Fire (LIF) Neuron Model\n",
        "**Week 2, Day 3: Biological Neuron Models**\n",
        "\n",
        "**By Neuromatch Academy**\n",
        "\n",
        "__Content creators:__ Qinglong Gu, Songtin Li, John Murray, Richard Naud, Arvind Kumar\n",
        "\n",
        "__Content reviewers:__  Maryam Vaziri-Pashkam, Ella Batty, Lorenzo Fontolan, Richard Gao, Matthew Krause, Spiros Chavlis, Michael Waskom, Ethan Cheng"
      ]
    },
    {
      "cell_type": "markdown",
      "metadata": {
        "execution": {},
        "id": "7YszAPeK9F0f"
      },
      "source": [
        "---\n",
        "# Tutorial Objectives\n",
        "\n",
        "*Estimated timing of tutorial: 1 hour, 10 min*\n",
        "\n",
        "This is Tutorial 1 of a series on implementing realistic neuron models. In this tutorial, we will build up a leaky integrate-and-fire (LIF) neuron model and study its dynamics in response to various types of inputs. In particular, we are going to write a few lines of code to:  \n",
        "\n",
        "- simulate the LIF neuron model\n",
        "\n",
        "- drive the LIF neuron with external inputs, such as direct currents, Gaussian white noise, and Poisson spike trains, etc.\n",
        "\n",
        "- study how different inputs affect the  LIF neuron's output (firing rate and spike time irregularity)\n",
        "\n",
        "Here, we will especially emphasize identifying conditions (input statistics) under which a neuron can spike at low firing rates and in an irregular manner. The reason for focusing on this is that in most cases, neocortical neurons spike in an irregular manner."
      ]
    },
    {
      "cell_type": "code",
      "metadata": {
        "cellView": "form",
        "execution": {},
        "id": "_AWzQTQZ9F0g"
      },
      "source": [
        "# @title Tutorial slides\n",
        "\n",
        "# @markdown These are the slides for the videos in all tutorials today\n",
        "from IPython.display import IFrame\n",
        "IFrame(src=f\"https://mfr.ca-1.osf.io/render?url=https://osf.io/8djsm/?direct%26mode=render%26action=download%26mode=render\", width=854, height=480)"
      ],
      "execution_count": null,
      "outputs": []
    },
    {
      "cell_type": "markdown",
      "metadata": {
        "execution": {},
        "id": "ztoK3KKi9F0i"
      },
      "source": [
        "---\n",
        "# Setup"
      ]
    },
    {
      "cell_type": "code",
      "metadata": {
        "cellView": "both",
        "execution": {},
        "id": "_aP-dUcW9F0i"
      },
      "source": [
        "# Imports\n",
        "\n",
        "import numpy as np\n",
        "import matplotlib.pyplot as plt"
      ],
      "execution_count": 1,
      "outputs": []
    },
    {
      "cell_type": "code",
      "metadata": {
        "cellView": "form",
        "execution": {},
        "id": "8CWcWVSi9F0j"
      },
      "source": [
        "# @title Figure Settings\n",
        "import ipywidgets as widgets  # interactive display\n",
        "%config InlineBackend.figure_format = 'retina'\n",
        "# use NMA plot style\n",
        "plt.style.use(\"https://raw.githubusercontent.com/NeuromatchAcademy/course-content/master/nma.mplstyle\")\n",
        "my_layout = widgets.Layout()"
      ],
      "execution_count": 2,
      "outputs": []
    },
    {
      "cell_type": "code",
      "metadata": {
        "cellView": "form",
        "execution": {},
        "id": "0sA27xRp9F0k"
      },
      "source": [
        "# @title Plotting Functions\n",
        "\n",
        "def plot_volt_trace(pars, v, sp):\n",
        "  \"\"\"\n",
        "  Plot trajetory of membrane potential for a single neuron\n",
        "\n",
        "  Expects:\n",
        "  pars   : parameter dictionary\n",
        "  v      : volt trajetory\n",
        "  sp     : spike train\n",
        "\n",
        "  Returns:\n",
        "  figure of the membrane potential trajetory for a single neuron\n",
        "  \"\"\"\n",
        "\n",
        "  V_th = pars['V_th']\n",
        "  dt, range_t = pars['dt'], pars['range_t']\n",
        "  if sp.size:\n",
        "    sp_num = (sp / dt).astype(int) - 1\n",
        "    v[sp_num] += 20  # draw nicer spikes\n",
        "\n",
        "  plt.plot(pars['range_t'], v, 'b')\n",
        "  plt.axhline(V_th, 0, 1, color='k', ls='--')\n",
        "  plt.xlabel('Time (ms)')\n",
        "  plt.ylabel('V (mV)')\n",
        "  plt.legend(['Membrane\\npotential', r'Threshold V$_{\\mathrm{th}}$'],\n",
        "             loc=[1.05, 0.75])\n",
        "  plt.ylim([-80, -40])\n",
        "\n",
        "\n",
        "def plot_GWN(pars, I_GWN):\n",
        "  \"\"\"\n",
        "  Args:\n",
        "    pars  : parameter dictionary\n",
        "    I_GWN : Gaussian white noise input\n",
        "\n",
        "  Returns:\n",
        "    figure of the gaussian white noise input\n",
        "  \"\"\"\n",
        "\n",
        "  plt.figure(figsize=(12, 4))\n",
        "  plt.subplot(121)\n",
        "  plt.plot(pars['range_t'][::3], I_GWN[::3], 'b')\n",
        "  plt.xlabel('Time (ms)')\n",
        "  plt.ylabel(r'$I_{GWN}$ (pA)')\n",
        "  plt.subplot(122)\n",
        "  plot_volt_trace(pars, v, sp)\n",
        "  plt.tight_layout()\n",
        "\n",
        "\n",
        "def my_hists(isi1, isi2, cv1, cv2, sigma1, sigma2):\n",
        "  \"\"\"\n",
        "  Args:\n",
        "    isi1 : vector with inter-spike intervals\n",
        "    isi2 : vector with inter-spike intervals\n",
        "    cv1  : coefficient of variation for isi1\n",
        "    cv2  : coefficient of variation for isi2\n",
        "\n",
        "  Returns:\n",
        "    figure with two histograms, isi1, isi2\n",
        "\n",
        "  \"\"\"\n",
        "  plt.figure(figsize=(11, 4))\n",
        "  my_bins = np.linspace(10, 30, 20)\n",
        "  plt.subplot(121)\n",
        "  plt.hist(isi1, bins=my_bins, color='b', alpha=0.5)\n",
        "  plt.xlabel('ISI (ms)')\n",
        "  plt.ylabel('count')\n",
        "  plt.title(r'$\\sigma_{GWN}=$%.1f, CV$_{\\mathrm{isi}}$=%.3f' % (sigma1, cv1))\n",
        "\n",
        "  plt.subplot(122)\n",
        "  plt.hist(isi2, bins=my_bins, color='b', alpha=0.5)\n",
        "  plt.xlabel('ISI (ms)')\n",
        "  plt.ylabel('count')\n",
        "  plt.title(r'$\\sigma_{GWN}=$%.1f, CV$_{\\mathrm{isi}}$=%.3f' % (sigma2, cv2))\n",
        "  plt.tight_layout()\n",
        "  plt.show()"
      ],
      "execution_count": 3,
      "outputs": []
    },
    {
      "cell_type": "markdown",
      "metadata": {
        "execution": {},
        "id": "P_qC1AJa9F0m"
      },
      "source": [
        "---\n",
        "# Section 1: The Leaky Integrate-and-Fire (LIF) model"
      ]
    },
    {
      "cell_type": "code",
      "metadata": {
        "cellView": "form",
        "execution": {},
        "id": "YGwJMSxB9F0n"
      },
      "source": [
        "# @title Video 1: Reduced Neuron Models\n",
        "from ipywidgets import widgets\n",
        "\n",
        "out2 = widgets.Output()\n",
        "with out2:\n",
        "  from IPython.display import IFrame\n",
        "  class BiliVideo(IFrame):\n",
        "      def __init__(self, id, page=1, width=400, height=300, **kwargs):\n",
        "          self.id=id\n",
        "          src = 'https://player.bilibili.com/player.html?bvid={0}&page={1}'.format(id, page)\n",
        "          super(BiliVideo, self).__init__(src, width, height, **kwargs)\n",
        "\n",
        "  video = BiliVideo(id=\"av456396195\", width=854, height=480, fs=1)\n",
        "  print('Video available at https://www.bilibili.com/video/{0}'.format(video.id))\n",
        "  display(video)\n",
        "\n",
        "out1 = widgets.Output()\n",
        "with out1:\n",
        "  from IPython.display import YouTubeVideo\n",
        "  video = YouTubeVideo(id=\"rSExvwCVRYg\", width=854, height=480, fs=1, rel=0)\n",
        "  print('Video available at https://youtube.com/watch?v=' + video.id)\n",
        "  display(video)\n",
        "\n",
        "out = widgets.Tab([out1, out2])\n",
        "out.set_title(0, 'Youtube')\n",
        "out.set_title(1, 'Bilibili')\n",
        "\n",
        "display(out)"
      ],
      "execution_count": null,
      "outputs": []
    },
    {
      "cell_type": "markdown",
      "metadata": {
        "execution": {},
        "id": "_NHrPRrR9F0o"
      },
      "source": [
        "This video introduces the reduction of a biological neuron to a simple leaky-integrate-fire (LIF) neuron model.\n",
        "\n",
        "<details>\n",
        "<summary> <font color='blue'>Click here for text recap of video </font></summary>\n",
        "\n",
        "Now, it's your turn to implement one of the simplest mathematical model of a neuron: the leaky integrate-and-fire (LIF) model. The basic idea of LIF neuron was proposed in 1907 by Louis Édouard Lapicque, long before we understood the electrophysiology of a neuron (see a translation of [Lapicque's paper](https://pubmed.ncbi.nlm.nih.gov/17968583/) ). More details of the model can be found in the book [**Theoretical neuroscience**](http://www.gatsby.ucl.ac.uk/~dayan/book/) by Peter Dayan and Laurence F. Abbott.\n",
        "\n",
        "The subthreshold membrane potential dynamics of a LIF neuron is described by\n",
        "\n",
        "\\begin{eqnarray}\n",
        "C_m\\frac{dV}{dt} = -g_L(V-E_L) + I,\\quad (1)\n",
        "\\end{eqnarray}\n",
        "\n",
        "where $C_m$ is the membrane capacitance, $V$ is the membrane potential, $g_L$ is the leak conductance ($g_L = 1/R$, the inverse of the leak resistance $R$ mentioned in previous tutorials), $E_L$ is the resting potential, and $I$ is the external input current. \n",
        "\n",
        "Dividing both sides of the above equation by $g_L$ gives\n",
        "\n",
        "\\begin{align}\n",
        "\\tau_m\\frac{dV}{dt} = -(V-E_L) + \\frac{I}{g_L}\\,,\\quad (2)\n",
        "\\end{align}\n",
        "\n",
        "where the $\\tau_m$ is membrane time constant and is defined as $\\tau_m=C_m/g_L$. \n",
        "\n",
        "Note that dividing capacitance by conductance gives units of time! \n",
        "\n",
        "Below, we will use Eqn.(2) to simulate LIF neuron dynamics. \n",
        "\n",
        "If $I$ is sufficiently strong such that $V$ reaches a certain threshold value $V_{\\rm th}$, $V$ is reset to a reset potential $V_{\\rm reset}< V_{\\rm th}$, and voltage is clamped to $V_{\\rm reset}$ for $\\tau_{\\rm ref}$ ms, mimicking the refractoriness of the neuron during an action potential:\n",
        "\n",
        "\\begin{eqnarray}\n",
        "\\mathrm{if}\\quad V(t_{\\text{sp}})\\geq V_{\\rm th}&:& V(t)=V_{\\rm reset} \\text{  for } t\\in(t_{\\text{sp}}, t_{\\text{sp}} + \\tau_{\\text{ref}}]\n",
        "\\end{eqnarray}\n",
        "where $t_{\\rm sp}$ is the spike time when $V(t)$ just exceeded $V_{\\rm th}$.\n",
        "\n",
        "(__Note__: in the lecture slides, $\\theta$ corresponds to the threshold voltage $V_{th}$, and $\\Delta$ corresponds to the refractory time $\\tau_{\\rm ref}$.)\n",
        "\n",
        "</details>\n",
        "\n",
        "Note that you have seen the LIF model before if you looked at the pre-reqs Python or Calculus days!\n",
        "\n",
        "The LIF model captures the facts that a neuron:\n",
        "- performs spatial and temporal integration of synaptic inputs \n",
        "- generates a spike when the voltage reaches a certain threshold\n",
        "- goes refractory during the action potential\n",
        "- has a leaky membrane \n",
        "\n",
        "The LIF model assumes that the spatial and temporal integration of inputs is linear. Also, membrane potential dynamics close to the spike threshold are much slower in LIF neurons than in real neurons. \n"
      ]
    },
    {
      "cell_type": "markdown",
      "metadata": {
        "execution": {},
        "id": "N7fI5WXf9F0p"
      },
      "source": [
        "## Coding Exercise 1: Python code to simulate the LIF neuron\n",
        "\n",
        "We now write Python code to calculate our equation for the LIF neuron and simulate the LIF neuron dynamics. We will use the Euler method, which you saw in the linear systems case yesterday  to numerically integrate this equation:\n",
        "\n",
        "\\begin{align*}\n",
        "\\tau_m\\frac{dV}{dt} = -(V-E_L) + \\frac{I}{g_L}\\,\n",
        "\\end{align*}\n",
        "\n",
        "where $V$ is the membrane potential, $g_L$ is the leak conductance, $E_L$ is the resting potential, $I$ is the external input current, and $\\tau_m$ is membrane time constant.\n",
        "\n",
        "The cell below initializes a dictionary that stores parameters of the LIF neuron model and the simulation scheme. You can use `pars=default_pars(T=simulation_time, dt=time_step)` to get the parameters. Note that, `simulation_time` and `time_step` have the unit `ms`. In addition, you can add the value to a new parameter by `pars['New_param'] = value`."
      ]
    },
    {
      "cell_type": "code",
      "metadata": {
        "execution": {},
        "cellView": "form",
        "id": "-robgKVs9F0q",
        "outputId": "59016c32-ea51-48c7-f286-178748188b6c",
        "colab": {
          "base_uri": "https://localhost:8080/"
        }
      },
      "source": [
        "# @markdown Execute this code to initialize the default parameters\n",
        "\n",
        "\n",
        "def default_pars(**kwargs):\n",
        "  pars = {}\n",
        "\n",
        "  # typical neuron parameters#\n",
        "  pars['V_th'] = -55.     # spike threshold [mV]\n",
        "  pars['V_reset'] = -75.  # reset potential [mV]\n",
        "  pars['tau_m'] = 10.     # membrane time constant [ms]\n",
        "  pars['g_L'] = 10.       # leak conductance [nS]\n",
        "  pars['V_init'] = -75.   # initial potential [mV]\n",
        "  pars['E_L'] = -75.      # leak reversal potential [mV]\n",
        "  pars['tref'] = 2.       # refractory time (ms)\n",
        "\n",
        "  # simulation parameters #\n",
        "  pars['T'] = 400.  # Total duration of simulation [ms]\n",
        "  pars['dt'] = .1   # Simulation time step [ms]\n",
        "\n",
        "  # external parameters if any #\n",
        "  for k in kwargs:\n",
        "    pars[k] = kwargs[k]\n",
        "\n",
        "  pars['range_t'] = np.arange(0, pars['T'], pars['dt'])  # Vector of discretized time points [ms]\n",
        "\n",
        "  return pars\n",
        "\n",
        "\n",
        "pars = default_pars()\n",
        "print(pars)"
      ],
      "execution_count": 4,
      "outputs": [
        {
          "output_type": "stream",
          "text": [
            "{'V_th': -55.0, 'V_reset': -75.0, 'tau_m': 10.0, 'g_L': 10.0, 'V_init': -75.0, 'E_L': -75.0, 'tref': 2.0, 'T': 400.0, 'dt': 0.1, 'range_t': array([0.000e+00, 1.000e-01, 2.000e-01, ..., 3.997e+02, 3.998e+02,\n",
            "       3.999e+02])}\n"
          ],
          "name": "stdout"
        }
      ]
    },
    {
      "cell_type": "markdown",
      "metadata": {
        "execution": {},
        "id": "4adbZnAO9F0q"
      },
      "source": [
        "Complete the function below to simulate the LIF neuron when receiving external current inputs. You can use `v, sp = run_LIF(pars, Iinj)` to get the membrane potential (`v`) and spike train (`sp`) given the dictionary `pars` and input current `Iinj`. "
      ]
    },
    {
      "cell_type": "code",
      "metadata": {
        "cellView": "both",
        "execution": {},
        "id": "8QB76OJO9F0r",
        "outputId": "35390518-ad0f-4bc2-a755-e6c7503320c2",
        "colab": {
          "base_uri": "https://localhost:8080/",
          "height": 431
        }
      },
      "source": [
        "def run_LIF(pars, Iinj, stop=True):\n",
        "  \"\"\"\n",
        "  Simulate the LIF dynamics with external input current\n",
        "\n",
        "  Args:\n",
        "    pars       : parameter dictionary\n",
        "    Iinj       : input current [pA]. The injected current here can be a value\n",
        "                 or an array\n",
        "    stop       : boolean. If True, use a current pulse\n",
        "\n",
        "  Returns:\n",
        "    rec_v      : membrane potential\n",
        "    rec_sp     : spike times\n",
        "  \"\"\"\n",
        "\n",
        "  # Set parameters\n",
        "  V_th, V_reset = pars['V_th'], pars['V_reset']\n",
        "  tau_m, g_L = pars['tau_m'], pars['g_L']\n",
        "  V_init, E_L = pars['V_init'], pars['E_L']\n",
        "  dt, range_t = pars['dt'], pars['range_t']\n",
        "  Lt = range_t.size\n",
        "  tref = pars['tref']\n",
        "\n",
        "  # Initialize voltage\n",
        "  v = np.zeros(Lt)\n",
        "  v[0] = V_init\n",
        "\n",
        "  # Set current time course\n",
        "  Iinj = Iinj * np.ones(Lt)\n",
        "\n",
        "  # If current pulse, set beginning and end to 0\n",
        "  if stop:\n",
        "    Iinj[:int(len(Iinj) / 2) - 1000] = 0\n",
        "    Iinj[int(len(Iinj) / 2) + 1000:] = 0\n",
        "\n",
        "  # Loop over time\n",
        "  rec_spikes = []  # record spike times\n",
        "  tr = 0.  # the count for refractory duration\n",
        "\n",
        "  for it in range(Lt - 1):\n",
        "\n",
        "    if tr > 0:  # check if in refractory period\n",
        "      v[it] = V_reset  # set voltage to reset\n",
        "      tr = tr - 1 # reduce running counter of refractory period\n",
        "\n",
        "    elif v[it] >= V_th:  # if voltage over threshold\n",
        "      rec_spikes.append(it)  # record spike event\n",
        "      v[it] = V_reset  # reset voltage\n",
        "      tr = tref / dt  # set refractory time\n",
        "\n",
        "   # Calculate the increment of the membrane potential\n",
        "    dv = (dt/tau_m) * ( -(v[it] - E_L ) + (Iinj[it] / g_L))\n",
        "\n",
        "    # Update the membrane potential\n",
        "    v[it + 1] = v[it] + dv\n",
        "\n",
        "  # Get spike times in ms\n",
        "  rec_spikes = np.array(rec_spikes) * dt\n",
        "\n",
        "  return v, rec_spikes\n",
        "\n",
        "\n",
        "# Get parameters\n",
        "pars = default_pars(T=500)\n",
        "\n",
        "# Simulate LIF model\n",
        "v, sp = run_LIF(pars, Iinj=100, stop=True)\n",
        "\n",
        "# Visualize\n",
        "plot_volt_trace(pars, v, sp)"
      ],
      "execution_count": 13,
      "outputs": [
        {
          "output_type": "display_data",
          "data": {
            "image/png": "[encoded data removed]",
            "text/plain": [
              "<Figure size 576x432 with 1 Axes>"
            ]
          },
          "metadata": {
            "tags": [],
            "image/png": {
              "width": 558,
              "height": 414
            },
            "needs_background": "light"
          }
        }
      ]
    },
    {
      "cell_type": "markdown",
      "metadata": {
        "execution": {},
        "id": "TFDnLX8M9F0s"
      },
      "source": [
        "---\n",
        "# Section 2: Response of an LIF model to different types of input currents\n",
        "\n",
        "*Estimated timing to here from start of tutorial: 20 min*\n",
        "\n",
        "In the following section, we will learn how to inject direct current and white noise to study the response of an LIF neuron."
      ]
    },
    {
      "cell_type": "code",
      "metadata": {
        "cellView": "form",
        "execution": {},
        "id": "5JUpqSF39F0t"
      },
      "source": [
        "# @title Video 2: Response of the LIF neuron to different inputs\n",
        "from ipywidgets import widgets\n",
        "\n",
        "out2 = widgets.Output()\n",
        "with out2:\n",
        "  from IPython.display import IFrame\n",
        "  class BiliVideo(IFrame):\n",
        "      def __init__(self, id, page=1, width=400, height=300, **kwargs):\n",
        "          self.id=id\n",
        "          src = 'https://player.bilibili.com/player.html?bvid={0}&page={1}'.format(id, page)\n",
        "          super(BiliVideo, self).__init__(src, width, height, **kwargs)\n",
        "\n",
        "  video = BiliVideo(id=\"av541417171\", width=854, height=480, fs=1)\n",
        "  print('Video available at https://www.bilibili.com/video/{0}'.format(video.id))\n",
        "  display(video)\n",
        "\n",
        "out1 = widgets.Output()\n",
        "with out1:\n",
        "  from IPython.display import YouTubeVideo\n",
        "  video = YouTubeVideo(id=\"preNGdab7Kk\", width=854, height=480, fs=1, rel=0)\n",
        "  print('Video available at https://youtube.com/watch?v=' + video.id)\n",
        "  display(video)\n",
        "\n",
        "out = widgets.Tab([out1, out2])\n",
        "out.set_title(0, 'Youtube')\n",
        "out.set_title(1, 'Bilibili')\n",
        "\n",
        "display(out)"
      ],
      "execution_count": null,
      "outputs": []
    },
    {
      "cell_type": "markdown",
      "metadata": {
        "execution": {},
        "id": "PqGd7XFQ9F0t"
      },
      "source": [
        "## Section 2.1: Direct current (DC)\n",
        "\n",
        "*Estimated timing to here from start of tutorial: 30 min*\n"
      ]
    },
    {
      "cell_type": "markdown",
      "metadata": {
        "execution": {},
        "id": "1zUt9gbF9F0t"
      },
      "source": [
        "### Interactive Demo 2.1: Parameter exploration of DC input amplitude \n",
        "Here's an interactive demo that shows how the LIF neuron behavior changes for DC input (constant current) with different amplitudes. We plot the membrane potential of an LIF neuron. You may notice that the neuron generates a spike. But this is just a cosmetic spike only for illustration purposes. In an LIF neuron, we only need to keep track of times when the neuron hit the threshold so the postsynaptic neurons can be informed of the spike. \n",
        "\n",
        "How much DC is needed to reach the threshold (rheobase current)? How does the membrane time constant affect the frequency of the neuron?"
      ]
    },
    {
      "cell_type": "code",
      "metadata": {
        "cellView": "form",
        "execution": {},
        "id": "dogrUlWL9F0v",
        "outputId": "00a2f8f5-0ae1-4846-a6a2-69a9c4c9d68e",
        "colab": {
          "base_uri": "https://localhost:8080/",
          "height": 495,
          "referenced_widgets": [
            "9d7a041f07bd4465ae4f71cedc042dd2",
            "810e737706d64275ba289f75f83219b3",
            "9036471c8aed4520b96987ac2db264bb",
            "a315ec0899c64d79b181dd1d19731402",
            "5b87d39f3ebb4807a65ca3a3bf6a274d",
            "4e85ed010fca44b3a0d8a7757335b60e",
            "bf2cb96ec3b142c8a42400d251914c6f",
            "b2a448331d4742e9a9f9a1e1fd4e8df8",
            "9510ec079cb9477f97b2dca694b1c1d4"
          ]
        }
      },
      "source": [
        "# @title\n",
        "# @markdown Make sure you execute this cell to enable the widget!\n",
        "my_layout.width = '450px'\n",
        "@widgets.interact(\n",
        "    I_dc=widgets.FloatSlider(50., min=0., max=300., step=10.,\n",
        "                               layout=my_layout),\n",
        "    tau_m=widgets.FloatSlider(10., min=2., max=20., step=2.,\n",
        "                                layout=my_layout)\n",
        ")\n",
        "\n",
        "def diff_DC(I_dc=200., tau_m=10.):\n",
        "  pars = default_pars(T=100.)\n",
        "  pars['tau_m'] = tau_m\n",
        "  v, sp = run_LIF(pars, Iinj=I_dc)\n",
        "  plot_volt_trace(pars, v, sp)\n",
        "  plt.show()"
      ],
      "execution_count": 14,
      "outputs": [
        {
          "output_type": "display_data",
          "data": {
            "application/vnd.jupyter.widget-view+json": {
              "model_id": "9d7a041f07bd4465ae4f71cedc042dd2",
              "version_minor": 0,
              "version_major": 2
            },
            "text/plain": [
              "interactive(children=(FloatSlider(value=50.0, description='I_dc', layout=Layout(width='450px'), max=300.0, ste…"
            ]
          },
          "metadata": {
            "tags": []
          }
        }
      ]
    },
    {
      "cell_type": "markdown",
      "metadata": {
        "execution": {},
        "id": "U-JJWTCx9F0w"
      },
      "source": [
        "[*Click for solution*](https://github.com/NeuromatchAcademy/course-content/tree/master//tutorials/W2D3_BiologicalNeuronModels/solutions/W2D3_Tutorial1_Solution_1058324c.py)\n",
        "\n"
      ]
    },
    {
      "cell_type": "markdown",
      "metadata": {
        "execution": {},
        "id": "BYLw_2x09F0w"
      },
      "source": [
        "## Section 2.2: Gaussian white noise (GWN) current \n",
        "\n",
        "*Estimated timing to here from start of tutorial: 38 min*\n",
        "\n",
        "Given the noisy nature of neuronal activity _in vivo_, neurons usually receive complex, time-varying inputs.\n",
        "\n",
        "To mimic this, we will now investigate the neuronal response when the LIF neuron receives Gaussian white noise $\\xi(t)$ with mean 0 ($\\mu = 0$) and some standard deviation $\\sigma$.\n",
        "\n",
        "Note that the GWN has zero mean, that is, it describes only the fluctuations of the input received by a neuron. We can thus modify our definition of GWN to have a nonzero mean value $\\mu$ that equals the DC input, since this is the average input into the cell. The cell below defines the modified gaussian white noise currents with nonzero mean $\\mu$."
      ]
    },
    {
      "cell_type": "markdown",
      "metadata": {
        "execution": {},
        "id": "zo1ebwVn9F0x"
      },
      "source": [
        "### Interactive Demo 2.2: LIF neuron Explorer for noisy input\n",
        "\n",
        "\n",
        "The mean of the Gaussian white noise (GWN) is the amplitude of DC. Indeed, when $\\sigma = 0$, GWN is just a DC.\n",
        "\n",
        "So the question arises how does $\\sigma$ of the GWN affect the spiking behavior of the neuron. For instance we may want to know\n",
        "1.  how does the minimum input (i.e. $\\mu$) needed to make a neuron spike change with increase in $\\sigma$\n",
        "2.  how does the spike regularity change with increase in $\\sigma$\n",
        "\n",
        "To get an intuition about these questions you can use the following interactive demo that shows how the LIF neuron behavior changes for noisy input with different amplitudes (the mean $\\mu$) and fluctuation sizes ($\\sigma$). We use a helper function to generate this noisy input current: `my_GWN(pars, mu, sig, myseed=False)`.  Note that fixing the value of the random seed (e.g., `myseed=2020`) will allow you to obtain the same result every time you run this. We then use our `run_LIF` function to simulate the LIF model.\n"
      ]
    },
    {
      "cell_type": "code",
      "metadata": {
        "cellView": "form",
        "execution": {},
        "id": "lAY6tX169F0x",
        "outputId": "a9fe31a5-c2d9-45c7-c5d0-0ad619001bfa",
        "colab": {
          "base_uri": "https://localhost:8080/"
        }
      },
      "source": [
        "# @markdown Execute to enable helper function `my_GWN`\n",
        "\n",
        "def my_GWN(pars, mu, sig, myseed=False):\n",
        "  \"\"\"\n",
        "  Function that generates Gaussian white noise input\n",
        "\n",
        "  Args:\n",
        "    pars       : parameter dictionary\n",
        "    mu         : noise baseline (mean)\n",
        "    sig        : noise amplitute (standard deviation)\n",
        "    myseed     : random seed. int or boolean\n",
        "                 the same seed will give the same\n",
        "                 random number sequence\n",
        "\n",
        "  Returns:\n",
        "    I          : Gaussian white noise input\n",
        "  \"\"\"\n",
        "\n",
        "  # Retrieve simulation parameters\n",
        "  dt, range_t = pars['dt'], pars['range_t']\n",
        "  Lt = range_t.size\n",
        "\n",
        "  # Set random seed\n",
        "  if myseed:\n",
        "      np.random.seed(seed=myseed)\n",
        "  else:\n",
        "      np.random.seed()\n",
        "\n",
        "  # Generate GWN\n",
        "  # we divide here by 1000 to convert units to sec.\n",
        "  I_gwn = mu + sig * np.random.randn(Lt) / np.sqrt(dt / 1000.)\n",
        "\n",
        "  return I_gwn\n",
        "\n",
        "help(my_GWN)"
      ],
      "execution_count": 16,
      "outputs": [
        {
          "output_type": "stream",
          "text": [
            "Help on function my_GWN in module __main__:\n",
            "\n",
            "my_GWN(pars, mu, sig, myseed=False)\n",
            "    Function that generates Gaussian white noise input\n",
            "    \n",
            "    Args:\n",
            "      pars       : parameter dictionary\n",
            "      mu         : noise baseline (mean)\n",
            "      sig        : noise amplitute (standard deviation)\n",
            "      myseed     : random seed. int or boolean\n",
            "                   the same seed will give the same\n",
            "                   random number sequence\n",
            "    \n",
            "    Returns:\n",
            "      I          : Gaussian white noise input\n",
            "\n"
          ],
          "name": "stdout"
        }
      ]
    },
    {
      "cell_type": "code",
      "metadata": {
        "cellView": "form",
        "execution": {},
        "id": "37nYpQ9e9F0y",
        "outputId": "ff8cb47a-8e11-4fdc-8869-b897400f5e3f",
        "colab": {
          "base_uri": "https://localhost:8080/",
          "height": 351,
          "referenced_widgets": [
            "7bb7bba3f0bf4a54bb7ddcc8c9a52089",
            "3037a2d9b9694df9a8fd20e3f1e25a5e",
            "e701fe34873d4c87bac67e4e6045e8f4",
            "5f78ef0661804d3c945c268ad4ad01e1",
            "fd62a61cba104826aa4f068d4c4bade9",
            "9bc29dd03ee542d3bc3c4f65271e433d",
            "bf2cb96ec3b142c8a42400d251914c6f",
            "04dbeb9cdea64cab9cad18919c159bab",
            "02125e83a9324f37b4cbc87e06a73bb9"
          ]
        }
      },
      "source": [
        "# @title\n",
        "\n",
        "# @markdown Make sure you execute this cell to enable the widget!\n",
        "\n",
        "my_layout.width = '450px'\n",
        "@widgets.interact(\n",
        "    mu_gwn=widgets.FloatSlider(200., min=100., max=300., step=5.,\n",
        "                               layout=my_layout),\n",
        "    sig_gwn=widgets.FloatSlider(2.5, min=0., max=5., step=.5,\n",
        "                                layout=my_layout)\n",
        ")\n",
        "\n",
        "\n",
        "def diff_GWN_to_LIF(mu_gwn, sig_gwn):\n",
        "  pars = default_pars(T=100.)\n",
        "  I_GWN = my_GWN(pars, mu=mu_gwn, sig=sig_gwn)\n",
        "  v, sp = run_LIF(pars, Iinj=I_GWN)\n",
        "  plt.figure(figsize=(12, 4))\n",
        "  plt.subplot(121)\n",
        "  plt.plot(pars['range_t'][::3], I_GWN[::3], 'b')\n",
        "  plt.xlabel('Time (ms)')\n",
        "  plt.ylabel(r'$I_{GWN}$ (pA)')\n",
        "  plt.subplot(122)\n",
        "  plot_volt_trace(pars, v, sp)\n",
        "  plt.tight_layout()\n",
        "  plt.show()"
      ],
      "execution_count": 17,
      "outputs": [
        {
          "output_type": "display_data",
          "data": {
            "application/vnd.jupyter.widget-view+json": {
              "model_id": "7bb7bba3f0bf4a54bb7ddcc8c9a52089",
              "version_minor": 0,
              "version_major": 2
            },
            "text/plain": [
              "interactive(children=(FloatSlider(value=200.0, description='mu_gwn', layout=Layout(width='450px'), max=300.0, …"
            ]
          },
          "metadata": {
            "tags": []
          }
        }
      ]
    },
    {
      "cell_type": "markdown",
      "metadata": {
        "execution": {},
        "id": "czV3Kb409F00"
      },
      "source": [
        "[*Click for solution*](https://github.com/NeuromatchAcademy/course-content/tree/master//tutorials/W2D3_BiologicalNeuronModels/solutions/W2D3_Tutorial1_Solution_2de5d8a9.py)\n",
        "\n"
      ]
    },
    {
      "cell_type": "markdown",
      "metadata": {
        "execution": {},
        "id": "xSh7XAW09F01"
      },
      "source": [
        "### Think! 2.2: Analyzing GWN Effects on Spiking\n",
        "- As we increase the input average ($\\mu$) or the input fluctuation ($\\sigma$), the spike count changes. How much can we increase the spike count, and what might be the relationship between GWN mean/std or DC value and spike count? \n",
        "\n",
        "- We have seen above that when we inject DC, the neuron spikes in a regular manner (clock like), and this regularity is reduced when GWN is injected. The question is, how irregular can we make the neurons spiking by changing the parameters of the GWN? \n",
        "\n",
        "We will see the answers to these questions in the next section but discuss first!\n"
      ]
    },
    {
      "cell_type": "markdown",
      "metadata": {
        "execution": {},
        "id": "jhBymYQk9F04"
      },
      "source": [
        "---\n",
        "# Section 3: Firing rate and spike time irregularity\n",
        "\n",
        "*Estimated timing to here from start of tutorial: 48 min*\n",
        "\n",
        "When we plot the output firing rate as a function of GWN mean or DC value, it is called the input-output transfer function of the neuron (so simply F-I curve).\n",
        "\n",
        "Spike regularity can be quantified as the **coefficient of variation (CV) of the inter-spike-interval (ISI)**:\n",
        "\\begin{align}\n",
        "\\text{CV}_{\\text{ISI}} = \\frac{std(\\text{ISI})}{mean(\\text{ISI})}\n",
        "\\end{align}\n",
        "\n",
        "A Poisson train is an example of high irregularity, in which $\\textbf{CV}_{\\textbf{ISI}} \\textbf{= 1}$. And for a clocklike (regular) process we have $\\textbf{CV}_{\\textbf{ISI}} \\textbf{= 0}$ because of **std(ISI)=0**."
      ]
    },
    {
      "cell_type": "markdown",
      "metadata": {
        "execution": {},
        "id": "qunyaYy09F04"
      },
      "source": [
        "## Interactive Demo 3A: F-I Explorer for different `sig_gwn`\n",
        "\n",
        "How does the F-I curve of the LIF neuron change as we increase the $\\sigma$ of the GWN? We can already expect that the F-I curve will be stochastic and the results will vary from one trial to another. But will there be any other change compared to the F-I curved measured using DC?\n",
        "\n",
        "Here's an interactive demo that shows how the F-I curve of a LIF neuron changes for different levels of fluctuation $\\sigma$.\n"
      ]
    },
    {
      "cell_type": "code",
      "metadata": {
        "cellView": "form",
        "execution": {},
        "id": "QP3LbQne9F05",
        "outputId": "86154856-71b6-4928-86d3-d8d33a952793",
        "colab": {
          "base_uri": "https://localhost:8080/",
          "height": 463,
          "referenced_widgets": [
            "7e7f35e289d947e28c69480a6afa1674",
            "b9162574911946dab6ed255ed5a38a5b",
            "41e77400436c4281bfc37c0be3b58997",
            "9ae2b6e1b9d34194bd8c3bc14eaf02af",
            "2459983c33f646bcb1348d16e5ed1264",
            "bf2cb96ec3b142c8a42400d251914c6f",
            "b45cb756a2d94b568397f1bc825ac256"
          ]
        }
      },
      "source": [
        "# @title\n",
        "\n",
        "# @markdown Make sure you execute this cell to enable the widget!\n",
        "\n",
        "\n",
        "my_layout.width = '450px'\n",
        "@widgets.interact(\n",
        "    sig_gwn=widgets.FloatSlider(3.0, min=0., max=6., step=0.5,\n",
        "                                layout=my_layout)\n",
        ")\n",
        "\n",
        "\n",
        "def diff_std_affect_fI(sig_gwn):\n",
        "  pars = default_pars(T=1000.)\n",
        "  I_mean = np.arange(100., 400., 10.)\n",
        "  spk_count = np.zeros(len(I_mean))\n",
        "  spk_count_dc = np.zeros(len(I_mean))\n",
        "\n",
        "  for idx in range(len(I_mean)):\n",
        "      I_GWN = my_GWN(pars, mu=I_mean[idx], sig=sig_gwn, myseed=2020)\n",
        "      v, rec_spikes = run_LIF(pars, Iinj=I_GWN)\n",
        "      v_dc, rec_sp_dc = run_LIF(pars, Iinj=I_mean[idx])\n",
        "      spk_count[idx] = len(rec_spikes)\n",
        "      spk_count_dc[idx] = len(rec_sp_dc)\n",
        "\n",
        "  # Plot the F-I curve i.e. Output firing rate as a function of input mean.\n",
        "  plt.figure()\n",
        "  plt.plot(I_mean, spk_count, 'k',\n",
        "           label=r'$\\sigma_{\\mathrm{GWN}}=%.2f$' % sig_gwn)\n",
        "  plt.plot(I_mean, spk_count_dc, 'k--', alpha=0.5, lw=4, dashes=(2, 2),\n",
        "           label='DC input')\n",
        "  plt.ylabel('Spike count')\n",
        "  plt.xlabel('Average injected current (pA)')\n",
        "  plt.legend(loc='best')\n",
        "  plt.show()"
      ],
      "execution_count": 18,
      "outputs": [
        {
          "output_type": "display_data",
          "data": {
            "application/vnd.jupyter.widget-view+json": {
              "model_id": "7e7f35e289d947e28c69480a6afa1674",
              "version_minor": 0,
              "version_major": 2
            },
            "text/plain": [
              "interactive(children=(FloatSlider(value=3.0, description='sig_gwn', layout=Layout(width='450px'), max=6.0, ste…"
            ]
          },
          "metadata": {
            "tags": []
          }
        }
      ]
    },
    {
      "cell_type": "markdown",
      "metadata": {
        "execution": {},
        "id": "3PI2JVvQ9F06"
      },
      "source": [
        "[*Click for solution*](https://github.com/NeuromatchAcademy/course-content/tree/master//tutorials/W2D3_BiologicalNeuronModels/solutions/W2D3_Tutorial1_Solution_eba2370f.py)\n",
        "\n"
      ]
    },
    {
      "cell_type": "markdown",
      "metadata": {
        "execution": {},
        "id": "_rgUH-169F06"
      },
      "source": [
        "## Coding Exercise 3: Compute $CV_{ISI}$ values\n",
        "\n",
        "As shown above, the F-I curve becomes smoother while increasing the amplitude of the fluctuation ($\\sigma$). In addition, the fluctuation can also change the irregularity of the spikes. Let's investigate the effect of $\\mu=250$ with $\\sigma=0.5$ vs $\\sigma=3$. \n",
        "\n",
        "Fill in the code below to compute ISI, then plot the histogram of the ISI and compute the $CV_{ISI}$. Note that, you can use `np.diff` to calculate ISI."
      ]
    },
    {
      "cell_type": "code",
      "metadata": {
        "execution": {},
        "id": "p8PdMLR19F07",
        "outputId": "f0a7aecd-5a96-44df-b92e-963c48f71129",
        "colab": {
          "base_uri": "https://localhost:8080/",
          "height": 286
        }
      },
      "source": [
        "def isi_cv_LIF(spike_times):\n",
        "  \"\"\"\n",
        "  Calculates the inter-spike intervals (isi) and\n",
        "  the coefficient of variation (cv) for a given spike_train\n",
        "\n",
        "  Args:\n",
        "    spike_times : (n, ) vector with the spike times (ndarray)\n",
        "\n",
        "  Returns:\n",
        "    isi         : (n-1,) vector with the inter-spike intervals (ms)\n",
        "    cv          : coefficient of variation of isi (float)\n",
        "\n",
        "  \"\"\"\n",
        "  if len(spike_times) >= 2:\n",
        "    # Compute isi\n",
        "    isi = np.diff(spike_times)\n",
        "    # Compute cv\n",
        "    cv = np.std(isi)/np.mean(isi)\n",
        "  else:\n",
        "    isi = np.nan\n",
        "    cv = np.nan\n",
        "\n",
        "  return isi, cv\n",
        "\n",
        "\n",
        "# Set parameters\n",
        "pars = default_pars(T=1000.)\n",
        "mu_gwn = 250\n",
        "sig_gwn1 = 0.5\n",
        "sig_gwn2 = 3.0\n",
        "\n",
        "# Run LIF model for sigma = 0.5\n",
        "I_GWN1 = my_GWN(pars, mu=mu_gwn, sig=sig_gwn1, myseed=2020)\n",
        "_, sp1 = run_LIF(pars, Iinj=I_GWN1)\n",
        "\n",
        "# Run LIF model for sigma = 3\n",
        "I_GWN2 = my_GWN(pars, mu=mu_gwn, sig=sig_gwn2, myseed=2020)\n",
        "_, sp2 = run_LIF(pars, Iinj=I_GWN2)\n",
        "\n",
        "# Compute ISIs/CV\n",
        "isi1, cv1 = isi_cv_LIF(sp1)\n",
        "isi2, cv2 = isi_cv_LIF(sp2)\n",
        "\n",
        "# Visualize\n",
        "my_hists(isi1, isi2, cv1, cv2, sig_gwn1, sig_gwn2)"
      ],
      "execution_count": 19,
      "outputs": [
        {
          "output_type": "display_data",
          "data": {
            "image/png": "[encoded data removed]",
            "text/plain": [
              "<Figure size 792x288 with 2 Axes>"
            ]
          },
          "metadata": {
            "tags": [],
            "image/png": {
              "width": 773,
              "height": 269
            },
            "needs_background": "light"
          }
        }
      ]
    },
    {
      "cell_type": "markdown",
      "metadata": {
        "execution": {},
        "id": "wwqiNPsI9F08"
      },
      "source": [
        "## Interactive Demo 3B: Spike irregularity explorer for different `sig_gwn`\n",
        "\n",
        "In the above illustration, we see that the CV of inter-spike-interval (ISI) distribution depends on $\\sigma$ of GWN. What about the mean of GWN, should that also affect the CV$_{\\rm ISI}$? If yes, how? Does the efficacy of $\\sigma$ in increasing the CV$_{\\rm ISI}$ depend on $\\mu$?\n",
        "\n",
        "In the following interactive demo, you will examine how different levels of fluctuation $\\sigma$ affect the CVs for different average injected currents ($\\mu$).\n",
        "\n",
        "1. Does the standard deviation of the injected current affect the F-I curve in any qualitative manner?\n",
        "2. Why does increasing the mean of GWN reduce the $CV_{ISI}$?\n",
        "3.  If you plot spike count (or rate) vs. $CV_{ISI}$, should there be a relationship between the two? Try out yourself."
      ]
    },
    {
      "cell_type": "code",
      "metadata": {
        "cellView": "form",
        "execution": {},
        "id": "R58pRehM9F08",
        "outputId": "c0e41b02-1ca1-4b4d-e1d7-2f69f0709041",
        "colab": {
          "base_uri": "https://localhost:8080/",
          "height": 462,
          "referenced_widgets": [
            "2a4cc3b32ffa493d837f3bff52267bf2",
            "6bec7759aadf444f8cc679df06fe88e4",
            "93b0d153efbe4a2996ab6fe398980063",
            "5391ae47f9f046478be3be6576df188b",
            "ac96b1a0b6504c6b8db56dbb16735304",
            "bf2cb96ec3b142c8a42400d251914c6f",
            "2d82aa5b06284dc2b038e4463e575a48"
          ]
        }
      },
      "source": [
        "#@title\n",
        "\n",
        "#@markdown Make sure you execute this cell to enable the widget!\n",
        "\n",
        "my_layout.width = '450px'\n",
        "@widgets.interact(\n",
        "    sig_gwn=widgets.FloatSlider(0.0, min=0., max=10.,\n",
        "                                step=0.5, layout=my_layout)\n",
        ")\n",
        "\n",
        "\n",
        "def diff_std_affect_fI(sig_gwn):\n",
        "  pars = default_pars(T=1000.)\n",
        "  I_mean = np.arange(100., 400., 20)\n",
        "  spk_count = np.zeros(len(I_mean))\n",
        "  cv_isi = np.empty(len(I_mean))\n",
        "\n",
        "  for idx in range(len(I_mean)):\n",
        "    I_GWN = my_GWN(pars, mu=I_mean[idx], sig=sig_gwn)\n",
        "    v, rec_spikes = run_LIF(pars, Iinj=I_GWN)\n",
        "    spk_count[idx] = len(rec_spikes)\n",
        "    if len(rec_spikes) > 3:\n",
        "      isi = np.diff(rec_spikes)\n",
        "      cv_isi[idx] = np.std(isi) / np.mean(isi)\n",
        "\n",
        "  # Plot the F-I curve i.e. Output firing rate as a function of input mean.\n",
        "  plt.figure()\n",
        "  plt.plot(I_mean[spk_count > 5], cv_isi[spk_count > 5], 'bo', alpha=0.5)\n",
        "  plt.xlabel('Average injected current (pA)')\n",
        "  plt.ylabel(r'Spike irregularity ($\\mathrm{CV}_\\mathrm{ISI}$)')\n",
        "  plt.ylim(-0.1, 1.5)\n",
        "  plt.grid(True)\n",
        "  plt.show()"
      ],
      "execution_count": 20,
      "outputs": [
        {
          "output_type": "display_data",
          "data": {
            "application/vnd.jupyter.widget-view+json": {
              "model_id": "2a4cc3b32ffa493d837f3bff52267bf2",
              "version_minor": 0,
              "version_major": 2
            },
            "text/plain": [
              "interactive(children=(FloatSlider(value=0.0, description='sig_gwn', layout=Layout(width='450px'), max=10.0, st…"
            ]
          },
          "metadata": {
            "tags": []
          }
        }
      ]
    },
    {
      "cell_type": "markdown",
      "metadata": {
        "execution": {},
        "id": "UpkZX11E9F09"
      },
      "source": [
        "[*Click for solution*](https://github.com/NeuromatchAcademy/course-content/tree/master//tutorials/W2D3_BiologicalNeuronModels/solutions/W2D3_Tutorial1_Solution_c6f1c4a2.py)\n",
        "\n"
      ]
    },
    {
      "cell_type": "markdown",
      "metadata": {
        "execution": {},
        "id": "bH1KZRyu9F09"
      },
      "source": [
        "---\n",
        "# Summary\n",
        "\n",
        "*Estimated timing of tutorial: 1 hour, 10 min*\n",
        "\n",
        "Congratulations! You've just built a leaky integrate-and-fire (LIF) neuron model from scratch, and studied its dynamics in response to various types of inputs, having:\n",
        "\n",
        "- simulated the LIF neuron model\n",
        "\n",
        "- driven the LIF neuron with external inputs, such as direct current and Gaussian white noise\n",
        "\n",
        "- studied how different inputs affect the  LIF neuron's output (firing rate and spike time irregularity),\n",
        "\n",
        "with a special focus on low rate and irregular firing regime to mimc real cortical neurons. The next tutorial will look at how spiking statistics may be influenced by a neuron's input statistics.\n",
        "\n",
        "If you have extra time, look at the bonus sections below to explore a different type of noise input and learn about extensions to integrate-and-fire models.\n"
      ]
    },
    {
      "cell_type": "markdown",
      "metadata": {
        "execution": {},
        "id": "L-kXXvQw9F09"
      },
      "source": [
        "---\n",
        "# Bonus"
      ]
    },
    {
      "cell_type": "markdown",
      "metadata": {
        "execution": {},
        "id": "hSQz1thL9F0_"
      },
      "source": [
        "---\n",
        "## Bonus Section 1: Orenstein-Uhlenbeck Process\n",
        "\n",
        "When a neuron receives spiking input, the synaptic current is Shot Noise -- which is a kind of colored noise and the spectrum of the noise determined by the synaptic kernel time constant. That is, a neuron is driven by **colored noise** and not GWN.\n",
        "\n",
        "We can model colored noise using the Ohrenstein-Uhlenbeck process - filtered white noise. "
      ]
    },
    {
      "cell_type": "markdown",
      "metadata": {
        "execution": {},
        "id": "jJFWvPEo9F0_"
      },
      "source": [
        "We next study if the input current is temporally correlated and is modeled as an Ornstein-Uhlenbeck process $\\eta(t)$, i.e., low-pass filtered GWN with a time constant $\\tau_{\\eta}$: \n",
        "\n",
        "$$\\tau_\\eta \\frac{d}{dt}\\eta(t) = \\mu-\\eta(t) + \\sigma_\\eta\\sqrt{2\\tau_\\eta}\\xi(t).$$\n",
        "\n",
        "**Hint:** An OU process as defined above has\n",
        "\n",
        "$$E[\\eta(t)]=\\mu$$ \n",
        "\n",
        "and autocovariance \n",
        "\n",
        "$$[\\eta(t)\\eta(t+\\tau)]=\\sigma_\\eta^2e^{-|t-\\tau|/\\tau_\\eta},$$\n",
        "\n",
        "which can be used to check your code. "
      ]
    },
    {
      "cell_type": "code",
      "metadata": {
        "cellView": "form",
        "execution": {},
        "id": "3dBfZKGb9F1A",
        "outputId": "aff0a109-cc6b-420d-d28d-3e08879b1598",
        "colab": {
          "base_uri": "https://localhost:8080/"
        }
      },
      "source": [
        "# @markdown Execute this cell to get helper function `my_OU`\n",
        "\n",
        "\n",
        "def my_OU(pars, mu, sig, myseed=False):\n",
        "  \"\"\"\n",
        "  Function that produces Ornstein-Uhlenbeck input\n",
        "\n",
        "  Args:\n",
        "    pars       : parameter dictionary\n",
        "    sig        : noise amplitute\n",
        "    myseed     : random seed. int or boolean\n",
        "\n",
        "  Returns:\n",
        "    I_ou       : Ornstein-Uhlenbeck input current\n",
        "  \"\"\"\n",
        "\n",
        "  # Retrieve simulation parameters\n",
        "  dt, range_t = pars['dt'], pars['range_t']\n",
        "  Lt = range_t.size\n",
        "  tau_ou = pars['tau_ou']  # [ms]\n",
        "\n",
        "  # set random seed\n",
        "  if myseed:\n",
        "    np.random.seed(seed=myseed)\n",
        "  else:\n",
        "    np.random.seed()\n",
        "\n",
        "  # Initialize\n",
        "  noise = np.random.randn(Lt)\n",
        "  I_ou = np.zeros(Lt)\n",
        "  I_ou[0] = noise[0] * sig\n",
        "\n",
        "  # generate OU\n",
        "  for it in range(Lt-1):\n",
        "    I_ou[it+1] = I_ou[it] + (dt / tau_ou) * (mu - I_ou[it]) + np.sqrt(2 * dt / tau_ou) * sig * noise[it + 1]\n",
        "\n",
        "  return I_ou\n",
        "\n",
        "\n",
        "help(my_OU)"
      ],
      "execution_count": 21,
      "outputs": [
        {
          "output_type": "stream",
          "text": [
            "Help on function my_OU in module __main__:\n",
            "\n",
            "my_OU(pars, mu, sig, myseed=False)\n",
            "    Function that produces Ornstein-Uhlenbeck input\n",
            "    \n",
            "    Args:\n",
            "      pars       : parameter dictionary\n",
            "      sig        : noise amplitute\n",
            "      myseed     : random seed. int or boolean\n",
            "    \n",
            "    Returns:\n",
            "      I_ou       : Ornstein-Uhlenbeck input current\n",
            "\n"
          ],
          "name": "stdout"
        }
      ]
    },
    {
      "cell_type": "markdown",
      "metadata": {
        "execution": {},
        "id": "yl7BpPzj9F1B"
      },
      "source": [
        "### Bonus Interactive Demo 1: LIF Explorer with OU input\n",
        "In the following, we will check how a neuron responds to a noisy current that follows the statistics of an OU process.\n",
        "\n",
        "-  How does the OU type input change neuron responsiveness? \n",
        "-  What do you think will happen to the spike pattern and rate if you increased or decreased the time constant of the OU process?"
      ]
    },
    {
      "cell_type": "code",
      "metadata": {
        "cellView": "form",
        "execution": {},
        "id": "bqbvXPZ49F1B",
        "outputId": "bcddc122-6204-426c-d8f0-1710654f2c25",
        "colab": {
          "base_uri": "https://localhost:8080/",
          "height": 383,
          "referenced_widgets": [
            "2e6044cde75542ba8f6599cf2f33495d",
            "cfec26054c7f40e6b607d561b2e61f5a",
            "29354a4bfd874601b483147801e1153b",
            "a0dcc8338cd345e4aa69635f92504cad",
            "af46b9a7291c4192a70cd3db787c435d",
            "b5fc39d5c20f44c59ee020e1504208ef",
            "d9a881bd49024c7ba8a324dfcd30b937",
            "bf2cb96ec3b142c8a42400d251914c6f",
            "09329af0dd5f45a8a2dceddb6762ed3a",
            "6425960cb0dd4402a5dcae8428b70a63",
            "ddc0a6b960fd4935bf4219286e210686"
          ]
        }
      },
      "source": [
        "# @title\n",
        "\n",
        "# @markdown Remember to enable the widget by running the cell!\n",
        "\n",
        "my_layout.width = '450px'\n",
        "@widgets.interact(\n",
        "  tau_ou=widgets.FloatSlider(10.0, min=5., max=20.,\n",
        "                             step=2.5, layout=my_layout),\n",
        "  sig_ou=widgets.FloatSlider(10.0, min=5., max=40.,\n",
        "                             step=2.5, layout=my_layout),\n",
        "  mu_ou=widgets.FloatSlider(190.0, min=180., max=220.,\n",
        "                            step=2.5, layout=my_layout)\n",
        ")\n",
        "\n",
        "\n",
        "def LIF_with_OU(tau_ou=10., sig_ou=40., mu_ou=200.):\n",
        "  pars = default_pars(T=1000.)\n",
        "  pars['tau_ou'] = tau_ou  # [ms]\n",
        "\n",
        "  I_ou = my_OU(pars, mu_ou, sig_ou)\n",
        "\n",
        "  v, sp = run_LIF(pars, Iinj=I_ou)\n",
        "\n",
        "  plt.figure(figsize=(12, 4))\n",
        "  plt.subplot(121)\n",
        "  plt.plot(pars['range_t'], I_ou, 'b', lw=1.0)\n",
        "  plt.xlabel('Time (ms)')\n",
        "  plt.ylabel(r'$I_{\\mathrm{OU}}$ (pA)')\n",
        "  plt.subplot(122)\n",
        "  plot_volt_trace(pars, v, sp)\n",
        "  plt.tight_layout()\n",
        "  plt.show()"
      ],
      "execution_count": 22,
      "outputs": [
        {
          "output_type": "display_data",
          "data": {
            "application/vnd.jupyter.widget-view+json": {
              "model_id": "2e6044cde75542ba8f6599cf2f33495d",
              "version_minor": 0,
              "version_major": 2
            },
            "text/plain": [
              "interactive(children=(FloatSlider(value=10.0, description='tau_ou', layout=Layout(width='450px'), max=20.0, mi…"
            ]
          },
          "metadata": {
            "tags": []
          }
        }
      ]
    },
    {
      "cell_type": "markdown",
      "metadata": {
        "execution": {},
        "id": "VrlUB5TQ9F1B"
      },
      "source": [
        "[*Click for solution*](https://github.com/NeuromatchAcademy/course-content/tree/master//tutorials/W2D3_BiologicalNeuronModels/solutions/W2D3_Tutorial1_Solution_cf5b6a80.py)\n",
        "\n"
      ]
    },
    {
      "cell_type": "markdown",
      "metadata": {
        "execution": {},
        "id": "63z7uXK99F1C"
      },
      "source": [
        "---\n",
        "## Bonus Section 2: Generalized Integrate-and-Fire models\n",
        "\n",
        "LIF model is not the only abstraction of real neurons. If you want to learn about more realistic types of neuronal models, watch the Bonus Video!"
      ]
    },
    {
      "cell_type": "code",
      "metadata": {
        "cellView": "form",
        "execution": {},
        "id": "BO8OkaQD9F1C"
      },
      "source": [
        "# @title Video 3 (Bonus): Extensions to Integrate-and-Fire models\n",
        "from ipywidgets import widgets\n",
        "\n",
        "out2 = widgets.Output()\n",
        "with out2:\n",
        "  from IPython.display import IFrame\n",
        "  class BiliVideo(IFrame):\n",
        "      def __init__(self, id, page=1, width=400, height=300, **kwargs):\n",
        "          self.id=id\n",
        "          src = 'https://player.bilibili.com/player.html?bvid={0}&page={1}'.format(id, page)\n",
        "          super(BiliVideo, self).__init__(src, width, height, **kwargs)\n",
        "\n",
        "  video = BiliVideo(id=\"\", width=854, height=480, fs=1)\n",
        "  print('Video available at https://www.bilibili.com/video/{0}'.format(video.id))\n",
        "  display(video)\n",
        "\n",
        "out1 = widgets.Output()\n",
        "with out1:\n",
        "  from IPython.display import YouTubeVideo\n",
        "  video = YouTubeVideo(id=\"G0b6wLhuQxE\", width=854, height=480, fs=1, rel=0)\n",
        "  print('Video available at https://youtube.com/watch?v=' + video.id)\n",
        "  display(video)\n",
        "\n",
        "out = widgets.Tab([out1, out2])\n",
        "out.set_title(0, 'Youtube')\n",
        "out.set_title(1, 'Bilibili')\n",
        "\n",
        "display(out)"
      ],
      "execution_count": null,
      "outputs": []
    }
  ]
}